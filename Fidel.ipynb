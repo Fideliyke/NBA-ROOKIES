{
 "cells": [
  {
   "cell_type": "code",
   "execution_count": 1,
   "id": "8be429ea",
   "metadata": {},
   "outputs": [],
   "source": [
    "import numpy as np\n",
    "import pandas as pd\n",
    "import matplotlib.pyplot as plt\n",
    "import seaborn as sns\n",
    "%matplotlib inline\n",
    "from sklearn.model_selection import train_test_split\n",
    "from sklearn.preprocessing import StandardScaler,MinMaxScaler\n",
    "from sklearn.metrics import recall_score, accuracy_score, precision_score, f1_score, confusion_matrix\n",
    "from sklearn.metrics import classification_report\n",
    "from sklearn.linear_model import LogisticRegression\n",
    "from sklearn.tree import DecisionTreeClassifier\n",
    "from xgboost import XGBClassifier\n",
    "from sklearn.ensemble import RandomForestClassifier\n",
    "from sklearn.ensemble import ExtraTreesClassifier\n",
    "from lightgbm import LGBMClassifier\n",
    "from sklearn.svm import SVC\n",
    "from sklearn.model_selection import GridSearchCV\n",
    "from sklearn.neighbors import KNeighborsClassifier"
   ]
  },
  {
   "cell_type": "code",
   "execution_count": 2,
   "id": "9bacd30b",
   "metadata": {
    "scrolled": true
   },
   "outputs": [
    {
     "data": {
      "text/html": [
       "<div>\n",
       "<style scoped>\n",
       "    .dataframe tbody tr th:only-of-type {\n",
       "        vertical-align: middle;\n",
       "    }\n",
       "\n",
       "    .dataframe tbody tr th {\n",
       "        vertical-align: top;\n",
       "    }\n",
       "\n",
       "    .dataframe thead th {\n",
       "        text-align: right;\n",
       "    }\n",
       "</style>\n",
       "<table border=\"1\" class=\"dataframe\">\n",
       "  <thead>\n",
       "    <tr style=\"text-align: right;\">\n",
       "      <th></th>\n",
       "      <th>GP</th>\n",
       "      <th>MIN</th>\n",
       "      <th>PTS</th>\n",
       "      <th>FGM</th>\n",
       "      <th>FGA</th>\n",
       "      <th>FG%</th>\n",
       "      <th>3P Made</th>\n",
       "      <th>3PA</th>\n",
       "      <th>3P%</th>\n",
       "      <th>FTM</th>\n",
       "      <th>FTA</th>\n",
       "      <th>FT%</th>\n",
       "      <th>OREB</th>\n",
       "      <th>DREB</th>\n",
       "      <th>REB</th>\n",
       "      <th>AST</th>\n",
       "      <th>STL</th>\n",
       "      <th>BLK</th>\n",
       "      <th>TOV</th>\n",
       "      <th>Target</th>\n",
       "    </tr>\n",
       "  </thead>\n",
       "  <tbody>\n",
       "    <tr>\n",
       "      <th>0</th>\n",
       "      <td>59.0</td>\n",
       "      <td>12.8</td>\n",
       "      <td>3.4</td>\n",
       "      <td>1.3</td>\n",
       "      <td>2.6</td>\n",
       "      <td>51.0</td>\n",
       "      <td>0.2</td>\n",
       "      <td>0.3</td>\n",
       "      <td>50.0</td>\n",
       "      <td>0.7</td>\n",
       "      <td>0.8</td>\n",
       "      <td>78.0</td>\n",
       "      <td>1.1</td>\n",
       "      <td>2.3</td>\n",
       "      <td>3.3</td>\n",
       "      <td>0.5</td>\n",
       "      <td>0.3</td>\n",
       "      <td>0.4</td>\n",
       "      <td>0.5</td>\n",
       "      <td>1</td>\n",
       "    </tr>\n",
       "    <tr>\n",
       "      <th>1</th>\n",
       "      <td>31.0</td>\n",
       "      <td>10.7</td>\n",
       "      <td>3.4</td>\n",
       "      <td>1.2</td>\n",
       "      <td>3.3</td>\n",
       "      <td>35.3</td>\n",
       "      <td>0.5</td>\n",
       "      <td>2.1</td>\n",
       "      <td>25.8</td>\n",
       "      <td>0.5</td>\n",
       "      <td>0.9</td>\n",
       "      <td>55.2</td>\n",
       "      <td>0.3</td>\n",
       "      <td>1.1</td>\n",
       "      <td>1.4</td>\n",
       "      <td>0.4</td>\n",
       "      <td>0.3</td>\n",
       "      <td>0.1</td>\n",
       "      <td>0.2</td>\n",
       "      <td>0</td>\n",
       "    </tr>\n",
       "    <tr>\n",
       "      <th>2</th>\n",
       "      <td>48.0</td>\n",
       "      <td>9.3</td>\n",
       "      <td>4.5</td>\n",
       "      <td>1.7</td>\n",
       "      <td>3.4</td>\n",
       "      <td>49.7</td>\n",
       "      <td>0.0</td>\n",
       "      <td>0.1</td>\n",
       "      <td>0.0</td>\n",
       "      <td>1.2</td>\n",
       "      <td>1.9</td>\n",
       "      <td>61.5</td>\n",
       "      <td>0.4</td>\n",
       "      <td>0.8</td>\n",
       "      <td>1.2</td>\n",
       "      <td>0.8</td>\n",
       "      <td>0.5</td>\n",
       "      <td>0.4</td>\n",
       "      <td>1.0</td>\n",
       "      <td>0</td>\n",
       "    </tr>\n",
       "    <tr>\n",
       "      <th>3</th>\n",
       "      <td>80.0</td>\n",
       "      <td>27.7</td>\n",
       "      <td>11.2</td>\n",
       "      <td>3.5</td>\n",
       "      <td>9.4</td>\n",
       "      <td>37.4</td>\n",
       "      <td>1.3</td>\n",
       "      <td>4.1</td>\n",
       "      <td>32.9</td>\n",
       "      <td>2.8</td>\n",
       "      <td>3.3</td>\n",
       "      <td>85.0</td>\n",
       "      <td>0.8</td>\n",
       "      <td>1.6</td>\n",
       "      <td>2.4</td>\n",
       "      <td>3.9</td>\n",
       "      <td>1.3</td>\n",
       "      <td>0.1</td>\n",
       "      <td>2.2</td>\n",
       "      <td>1</td>\n",
       "    </tr>\n",
       "    <tr>\n",
       "      <th>4</th>\n",
       "      <td>58.0</td>\n",
       "      <td>18.4</td>\n",
       "      <td>5.8</td>\n",
       "      <td>1.9</td>\n",
       "      <td>5.3</td>\n",
       "      <td>36.7</td>\n",
       "      <td>0.0</td>\n",
       "      <td>0.1</td>\n",
       "      <td>25.0</td>\n",
       "      <td>1.9</td>\n",
       "      <td>3.1</td>\n",
       "      <td>61.7</td>\n",
       "      <td>0.5</td>\n",
       "      <td>0.7</td>\n",
       "      <td>1.2</td>\n",
       "      <td>1.9</td>\n",
       "      <td>1.1</td>\n",
       "      <td>0.2</td>\n",
       "      <td>1.7</td>\n",
       "      <td>0</td>\n",
       "    </tr>\n",
       "  </tbody>\n",
       "</table>\n",
       "</div>"
      ],
      "text/plain": [
       "     GP   MIN   PTS  FGM  FGA   FG%  3P Made  3PA   3P%  FTM  FTA   FT%  OREB  \\\n",
       "0  59.0  12.8   3.4  1.3  2.6  51.0      0.2  0.3  50.0  0.7  0.8  78.0   1.1   \n",
       "1  31.0  10.7   3.4  1.2  3.3  35.3      0.5  2.1  25.8  0.5  0.9  55.2   0.3   \n",
       "2  48.0   9.3   4.5  1.7  3.4  49.7      0.0  0.1   0.0  1.2  1.9  61.5   0.4   \n",
       "3  80.0  27.7  11.2  3.5  9.4  37.4      1.3  4.1  32.9  2.8  3.3  85.0   0.8   \n",
       "4  58.0  18.4   5.8  1.9  5.3  36.7      0.0  0.1  25.0  1.9  3.1  61.7   0.5   \n",
       "\n",
       "   DREB  REB  AST  STL  BLK  TOV  Target  \n",
       "0   2.3  3.3  0.5  0.3  0.4  0.5       1  \n",
       "1   1.1  1.4  0.4  0.3  0.1  0.2       0  \n",
       "2   0.8  1.2  0.8  0.5  0.4  1.0       0  \n",
       "3   1.6  2.4  3.9  1.3  0.1  2.2       1  \n",
       "4   0.7  1.2  1.9  1.1  0.2  1.7       0  "
      ]
     },
     "execution_count": 2,
     "metadata": {},
     "output_type": "execute_result"
    }
   ],
   "source": [
    "train_data = pd.read_csv('Train_data.csv')\n",
    "test_data = pd.read_csv('Test_data.csv')\n",
    "train_data.head(5)"
   ]
  },
  {
   "cell_type": "code",
   "execution_count": 3,
   "id": "03397fec",
   "metadata": {},
   "outputs": [
    {
     "data": {
      "text/plain": [
       "(1101, 20)"
      ]
     },
     "execution_count": 3,
     "metadata": {},
     "output_type": "execute_result"
    }
   ],
   "source": [
    "train_data.shape"
   ]
  },
  {
   "cell_type": "code",
   "execution_count": 4,
   "id": "5245a5e3",
   "metadata": {},
   "outputs": [
    {
     "name": "stdout",
     "output_type": "stream",
     "text": [
      "<class 'pandas.core.frame.DataFrame'>\n",
      "RangeIndex: 1101 entries, 0 to 1100\n",
      "Data columns (total 20 columns):\n",
      " #   Column   Non-Null Count  Dtype  \n",
      "---  ------   --------------  -----  \n",
      " 0   GP       1101 non-null   float64\n",
      " 1   MIN      1101 non-null   float64\n",
      " 2   PTS      1101 non-null   float64\n",
      " 3   FGM      1101 non-null   float64\n",
      " 4   FGA      1101 non-null   float64\n",
      " 5   FG%      1101 non-null   float64\n",
      " 6   3P Made  1101 non-null   float64\n",
      " 7   3PA      1101 non-null   float64\n",
      " 8   3P%      1101 non-null   float64\n",
      " 9   FTM      1101 non-null   float64\n",
      " 10  FTA      1101 non-null   float64\n",
      " 11  FT%      1101 non-null   float64\n",
      " 12  OREB     1101 non-null   float64\n",
      " 13  DREB     1101 non-null   float64\n",
      " 14  REB      1101 non-null   float64\n",
      " 15  AST      1101 non-null   float64\n",
      " 16  STL      1101 non-null   float64\n",
      " 17  BLK      1101 non-null   float64\n",
      " 18  TOV      1101 non-null   float64\n",
      " 19  Target   1101 non-null   int64  \n",
      "dtypes: float64(19), int64(1)\n",
      "memory usage: 172.2 KB\n"
     ]
    }
   ],
   "source": [
    "train_data.info()"
   ]
  },
  {
   "cell_type": "code",
   "execution_count": 5,
   "id": "ef7e54bf",
   "metadata": {},
   "outputs": [
    {
     "data": {
      "text/plain": [
       "GP         0\n",
       "MIN        0\n",
       "PTS        0\n",
       "FGM        0\n",
       "FGA        0\n",
       "FG%        0\n",
       "3P Made    0\n",
       "3PA        0\n",
       "3P%        0\n",
       "FTM        0\n",
       "FTA        0\n",
       "FT%        0\n",
       "OREB       0\n",
       "DREB       0\n",
       "REB        0\n",
       "AST        0\n",
       "STL        0\n",
       "BLK        0\n",
       "TOV        0\n",
       "Target     0\n",
       "dtype: int64"
      ]
     },
     "execution_count": 5,
     "metadata": {},
     "output_type": "execute_result"
    }
   ],
   "source": [
    "#checking for null values\n",
    "train_data.isnull().sum()"
   ]
  },
  {
   "cell_type": "code",
   "execution_count": 6,
   "id": "8b93d4d3",
   "metadata": {},
   "outputs": [
    {
     "name": "stdout",
     "output_type": "stream",
     "text": [
      "The Number of Unique values in each column\n",
      "\"GP\" has 274 unique values\n",
      "\"MIN\" has 514 unique values\n",
      "\"PTS\" has 392 unique values\n",
      "\"FGM\" has 289 unique values\n",
      "\"FGA\" has 366 unique values\n",
      "\"FG%\" has 480 unique values\n",
      "\"3P Made\" has 132 unique values\n",
      "\"3PA\" has 216 unique values\n",
      "\"3P%\" has 349 unique values\n",
      "\"FTM\" has 258 unique values\n",
      "\"FTA\" has 285 unique values\n",
      "\"FT%\" has 554 unique values\n",
      "\"OREB\" has 243 unique values\n",
      "\"DREB\" has 281 unique values\n",
      "\"REB\" has 306 unique values\n",
      "\"AST\" has 279 unique values\n",
      "\"STL\" has 219 unique values\n",
      "\"BLK\" has 201 unique values\n",
      "\"TOV\" has 241 unique values\n",
      "\"Target\" has 2 unique values\n"
     ]
    }
   ],
   "source": [
    "#unique values\n",
    "columns = train_data.columns\n",
    "print(\"The Number of Unique values in each column\")\n",
    "for n in columns:\n",
    "    w = train_data[n].nunique()\n",
    "    print('\"%s\"' % n, 'has', w, 'unique values')"
   ]
  },
  {
   "cell_type": "code",
   "execution_count": 7,
   "id": "c870be1d",
   "metadata": {},
   "outputs": [
    {
     "data": {
      "text/html": [
       "<div>\n",
       "<style scoped>\n",
       "    .dataframe tbody tr th:only-of-type {\n",
       "        vertical-align: middle;\n",
       "    }\n",
       "\n",
       "    .dataframe tbody tr th {\n",
       "        vertical-align: top;\n",
       "    }\n",
       "\n",
       "    .dataframe thead th {\n",
       "        text-align: right;\n",
       "    }\n",
       "</style>\n",
       "<table border=\"1\" class=\"dataframe\">\n",
       "  <thead>\n",
       "    <tr style=\"text-align: right;\">\n",
       "      <th></th>\n",
       "      <th>GP</th>\n",
       "      <th>MIN</th>\n",
       "      <th>PTS</th>\n",
       "      <th>FGM</th>\n",
       "      <th>FGA</th>\n",
       "      <th>FG%</th>\n",
       "      <th>3P Made</th>\n",
       "      <th>3PA</th>\n",
       "      <th>3P%</th>\n",
       "      <th>FTM</th>\n",
       "      <th>FTA</th>\n",
       "      <th>FT%</th>\n",
       "      <th>OREB</th>\n",
       "      <th>DREB</th>\n",
       "      <th>REB</th>\n",
       "      <th>AST</th>\n",
       "      <th>STL</th>\n",
       "      <th>BLK</th>\n",
       "      <th>TOV</th>\n",
       "      <th>Target</th>\n",
       "    </tr>\n",
       "  </thead>\n",
       "  <tbody>\n",
       "    <tr>\n",
       "      <th>count</th>\n",
       "      <td>1101.000000</td>\n",
       "      <td>1101.000000</td>\n",
       "      <td>1101.000000</td>\n",
       "      <td>1101.000000</td>\n",
       "      <td>1101.000000</td>\n",
       "      <td>1101.000000</td>\n",
       "      <td>1101.000000</td>\n",
       "      <td>1101.000000</td>\n",
       "      <td>1101.000000</td>\n",
       "      <td>1101.000000</td>\n",
       "      <td>1101.000000</td>\n",
       "      <td>1101.000000</td>\n",
       "      <td>1101.000000</td>\n",
       "      <td>1101.000000</td>\n",
       "      <td>1101.000000</td>\n",
       "      <td>1101.000000</td>\n",
       "      <td>1101.000000</td>\n",
       "      <td>1101.000000</td>\n",
       "      <td>1101.000000</td>\n",
       "      <td>1101.000000</td>\n",
       "    </tr>\n",
       "    <tr>\n",
       "      <th>mean</th>\n",
       "      <td>59.008156</td>\n",
       "      <td>16.928284</td>\n",
       "      <td>6.502344</td>\n",
       "      <td>2.511125</td>\n",
       "      <td>5.645747</td>\n",
       "      <td>43.912555</td>\n",
       "      <td>0.241959</td>\n",
       "      <td>0.767455</td>\n",
       "      <td>19.050425</td>\n",
       "      <td>1.241914</td>\n",
       "      <td>1.741848</td>\n",
       "      <td>70.495847</td>\n",
       "      <td>0.958240</td>\n",
       "      <td>1.937014</td>\n",
       "      <td>2.891927</td>\n",
       "      <td>1.472706</td>\n",
       "      <td>0.589403</td>\n",
       "      <td>0.344204</td>\n",
       "      <td>1.150499</td>\n",
       "      <td>0.499546</td>\n",
       "    </tr>\n",
       "    <tr>\n",
       "      <th>std</th>\n",
       "      <td>17.236886</td>\n",
       "      <td>8.034209</td>\n",
       "      <td>4.163856</td>\n",
       "      <td>1.611502</td>\n",
       "      <td>3.422292</td>\n",
       "      <td>6.106910</td>\n",
       "      <td>0.363008</td>\n",
       "      <td>1.017214</td>\n",
       "      <td>15.513640</td>\n",
       "      <td>0.937585</td>\n",
       "      <td>1.272047</td>\n",
       "      <td>10.381068</td>\n",
       "      <td>0.771344</td>\n",
       "      <td>1.342627</td>\n",
       "      <td>2.039694</td>\n",
       "      <td>1.376592</td>\n",
       "      <td>0.386147</td>\n",
       "      <td>0.418840</td>\n",
       "      <td>0.687706</td>\n",
       "      <td>0.500227</td>\n",
       "    </tr>\n",
       "    <tr>\n",
       "      <th>min</th>\n",
       "      <td>11.000000</td>\n",
       "      <td>3.100000</td>\n",
       "      <td>1.100000</td>\n",
       "      <td>0.400000</td>\n",
       "      <td>1.000000</td>\n",
       "      <td>25.000000</td>\n",
       "      <td>0.000000</td>\n",
       "      <td>0.000000</td>\n",
       "      <td>0.000000</td>\n",
       "      <td>0.000000</td>\n",
       "      <td>0.000000</td>\n",
       "      <td>0.000000</td>\n",
       "      <td>0.000000</td>\n",
       "      <td>0.200000</td>\n",
       "      <td>0.300000</td>\n",
       "      <td>0.000000</td>\n",
       "      <td>0.000000</td>\n",
       "      <td>0.000000</td>\n",
       "      <td>0.100000</td>\n",
       "      <td>0.000000</td>\n",
       "    </tr>\n",
       "    <tr>\n",
       "      <th>25%</th>\n",
       "      <td>46.223257</td>\n",
       "      <td>10.492268</td>\n",
       "      <td>3.587756</td>\n",
       "      <td>1.400000</td>\n",
       "      <td>3.200000</td>\n",
       "      <td>40.000000</td>\n",
       "      <td>0.000000</td>\n",
       "      <td>0.000000</td>\n",
       "      <td>0.000000</td>\n",
       "      <td>0.600000</td>\n",
       "      <td>0.900000</td>\n",
       "      <td>64.900000</td>\n",
       "      <td>0.400000</td>\n",
       "      <td>1.000000</td>\n",
       "      <td>1.400000</td>\n",
       "      <td>0.600000</td>\n",
       "      <td>0.300000</td>\n",
       "      <td>0.100000</td>\n",
       "      <td>0.700000</td>\n",
       "      <td>0.000000</td>\n",
       "    </tr>\n",
       "    <tr>\n",
       "      <th>50%</th>\n",
       "      <td>59.387147</td>\n",
       "      <td>15.386486</td>\n",
       "      <td>5.200000</td>\n",
       "      <td>2.000000</td>\n",
       "      <td>4.600000</td>\n",
       "      <td>43.652785</td>\n",
       "      <td>0.100000</td>\n",
       "      <td>0.300000</td>\n",
       "      <td>22.600000</td>\n",
       "      <td>1.000000</td>\n",
       "      <td>1.400000</td>\n",
       "      <td>71.502462</td>\n",
       "      <td>0.700000</td>\n",
       "      <td>1.600000</td>\n",
       "      <td>2.273596</td>\n",
       "      <td>1.041951</td>\n",
       "      <td>0.500000</td>\n",
       "      <td>0.200000</td>\n",
       "      <td>0.988945</td>\n",
       "      <td>0.000000</td>\n",
       "    </tr>\n",
       "    <tr>\n",
       "      <th>75%</th>\n",
       "      <td>76.000000</td>\n",
       "      <td>21.830403</td>\n",
       "      <td>8.300000</td>\n",
       "      <td>3.200000</td>\n",
       "      <td>6.900000</td>\n",
       "      <td>47.700000</td>\n",
       "      <td>0.400000</td>\n",
       "      <td>1.195634</td>\n",
       "      <td>32.300000</td>\n",
       "      <td>1.600000</td>\n",
       "      <td>2.200000</td>\n",
       "      <td>77.436718</td>\n",
       "      <td>1.300000</td>\n",
       "      <td>2.500000</td>\n",
       "      <td>3.700000</td>\n",
       "      <td>1.900000</td>\n",
       "      <td>0.800000</td>\n",
       "      <td>0.400000</td>\n",
       "      <td>1.400000</td>\n",
       "      <td>1.000000</td>\n",
       "    </tr>\n",
       "    <tr>\n",
       "      <th>max</th>\n",
       "      <td>82.000000</td>\n",
       "      <td>40.900000</td>\n",
       "      <td>24.300000</td>\n",
       "      <td>9.000000</td>\n",
       "      <td>18.900000</td>\n",
       "      <td>73.700000</td>\n",
       "      <td>2.300000</td>\n",
       "      <td>6.500000</td>\n",
       "      <td>100.000000</td>\n",
       "      <td>7.500000</td>\n",
       "      <td>10.200000</td>\n",
       "      <td>100.000000</td>\n",
       "      <td>5.300000</td>\n",
       "      <td>9.600000</td>\n",
       "      <td>13.900000</td>\n",
       "      <td>10.600000</td>\n",
       "      <td>2.500000</td>\n",
       "      <td>3.900000</td>\n",
       "      <td>4.200000</td>\n",
       "      <td>1.000000</td>\n",
       "    </tr>\n",
       "  </tbody>\n",
       "</table>\n",
       "</div>"
      ],
      "text/plain": [
       "                GP          MIN          PTS          FGM          FGA  \\\n",
       "count  1101.000000  1101.000000  1101.000000  1101.000000  1101.000000   \n",
       "mean     59.008156    16.928284     6.502344     2.511125     5.645747   \n",
       "std      17.236886     8.034209     4.163856     1.611502     3.422292   \n",
       "min      11.000000     3.100000     1.100000     0.400000     1.000000   \n",
       "25%      46.223257    10.492268     3.587756     1.400000     3.200000   \n",
       "50%      59.387147    15.386486     5.200000     2.000000     4.600000   \n",
       "75%      76.000000    21.830403     8.300000     3.200000     6.900000   \n",
       "max      82.000000    40.900000    24.300000     9.000000    18.900000   \n",
       "\n",
       "               FG%      3P Made          3PA          3P%          FTM  \\\n",
       "count  1101.000000  1101.000000  1101.000000  1101.000000  1101.000000   \n",
       "mean     43.912555     0.241959     0.767455    19.050425     1.241914   \n",
       "std       6.106910     0.363008     1.017214    15.513640     0.937585   \n",
       "min      25.000000     0.000000     0.000000     0.000000     0.000000   \n",
       "25%      40.000000     0.000000     0.000000     0.000000     0.600000   \n",
       "50%      43.652785     0.100000     0.300000    22.600000     1.000000   \n",
       "75%      47.700000     0.400000     1.195634    32.300000     1.600000   \n",
       "max      73.700000     2.300000     6.500000   100.000000     7.500000   \n",
       "\n",
       "               FTA          FT%         OREB         DREB          REB  \\\n",
       "count  1101.000000  1101.000000  1101.000000  1101.000000  1101.000000   \n",
       "mean      1.741848    70.495847     0.958240     1.937014     2.891927   \n",
       "std       1.272047    10.381068     0.771344     1.342627     2.039694   \n",
       "min       0.000000     0.000000     0.000000     0.200000     0.300000   \n",
       "25%       0.900000    64.900000     0.400000     1.000000     1.400000   \n",
       "50%       1.400000    71.502462     0.700000     1.600000     2.273596   \n",
       "75%       2.200000    77.436718     1.300000     2.500000     3.700000   \n",
       "max      10.200000   100.000000     5.300000     9.600000    13.900000   \n",
       "\n",
       "               AST          STL          BLK          TOV       Target  \n",
       "count  1101.000000  1101.000000  1101.000000  1101.000000  1101.000000  \n",
       "mean      1.472706     0.589403     0.344204     1.150499     0.499546  \n",
       "std       1.376592     0.386147     0.418840     0.687706     0.500227  \n",
       "min       0.000000     0.000000     0.000000     0.100000     0.000000  \n",
       "25%       0.600000     0.300000     0.100000     0.700000     0.000000  \n",
       "50%       1.041951     0.500000     0.200000     0.988945     0.000000  \n",
       "75%       1.900000     0.800000     0.400000     1.400000     1.000000  \n",
       "max      10.600000     2.500000     3.900000     4.200000     1.000000  "
      ]
     },
     "execution_count": 7,
     "metadata": {},
     "output_type": "execute_result"
    }
   ],
   "source": [
    "train_data.describe()"
   ]
  },
  {
   "cell_type": "code",
   "execution_count": 8,
   "id": "3f7ad430",
   "metadata": {},
   "outputs": [
    {
     "data": {
      "text/html": [
       "<div>\n",
       "<style scoped>\n",
       "    .dataframe tbody tr th:only-of-type {\n",
       "        vertical-align: middle;\n",
       "    }\n",
       "\n",
       "    .dataframe tbody tr th {\n",
       "        vertical-align: top;\n",
       "    }\n",
       "\n",
       "    .dataframe thead th {\n",
       "        text-align: right;\n",
       "    }\n",
       "</style>\n",
       "<table border=\"1\" class=\"dataframe\">\n",
       "  <thead>\n",
       "    <tr style=\"text-align: right;\">\n",
       "      <th></th>\n",
       "      <th>GP</th>\n",
       "      <th>MIN</th>\n",
       "      <th>PTS</th>\n",
       "      <th>FGM</th>\n",
       "      <th>FGA</th>\n",
       "      <th>FG%</th>\n",
       "      <th>3P Made</th>\n",
       "      <th>3PA</th>\n",
       "      <th>3P%</th>\n",
       "      <th>FTM</th>\n",
       "      <th>FTA</th>\n",
       "      <th>FT%</th>\n",
       "      <th>OREB</th>\n",
       "      <th>DREB</th>\n",
       "      <th>REB</th>\n",
       "      <th>AST</th>\n",
       "      <th>STL</th>\n",
       "      <th>BLK</th>\n",
       "      <th>TOV</th>\n",
       "    </tr>\n",
       "    <tr>\n",
       "      <th>Target</th>\n",
       "      <th></th>\n",
       "      <th></th>\n",
       "      <th></th>\n",
       "      <th></th>\n",
       "      <th></th>\n",
       "      <th></th>\n",
       "      <th></th>\n",
       "      <th></th>\n",
       "      <th></th>\n",
       "      <th></th>\n",
       "      <th></th>\n",
       "      <th></th>\n",
       "      <th></th>\n",
       "      <th></th>\n",
       "      <th></th>\n",
       "      <th></th>\n",
       "      <th></th>\n",
       "      <th></th>\n",
       "      <th></th>\n",
       "    </tr>\n",
       "  </thead>\n",
       "  <tbody>\n",
       "    <tr>\n",
       "      <th>0</th>\n",
       "      <td>28621.979801</td>\n",
       "      <td>7761.840504</td>\n",
       "      <td>2771.2806</td>\n",
       "      <td>1067.849022</td>\n",
       "      <td>2493.167445</td>\n",
       "      <td>23348.222795</td>\n",
       "      <td>125.897213</td>\n",
       "      <td>412.368202</td>\n",
       "      <td>10485.817475</td>\n",
       "      <td>512.447307</td>\n",
       "      <td>725.47497</td>\n",
       "      <td>38337.127864</td>\n",
       "      <td>388.222503</td>\n",
       "      <td>828.352147</td>\n",
       "      <td>1213.811459</td>\n",
       "      <td>649.64973</td>\n",
       "      <td>267.732353</td>\n",
       "      <td>137.268511</td>\n",
       "      <td>515.099202</td>\n",
       "    </tr>\n",
       "    <tr>\n",
       "      <th>1</th>\n",
       "      <td>36346.000000</td>\n",
       "      <td>10876.200000</td>\n",
       "      <td>4387.8000</td>\n",
       "      <td>1696.900000</td>\n",
       "      <td>3722.800000</td>\n",
       "      <td>24999.500000</td>\n",
       "      <td>140.500000</td>\n",
       "      <td>432.600000</td>\n",
       "      <td>10488.700000</td>\n",
       "      <td>854.900000</td>\n",
       "      <td>1192.30000</td>\n",
       "      <td>39278.800000</td>\n",
       "      <td>666.800000</td>\n",
       "      <td>1304.300000</td>\n",
       "      <td>1970.200000</td>\n",
       "      <td>971.80000</td>\n",
       "      <td>381.200000</td>\n",
       "      <td>241.700000</td>\n",
       "      <td>751.600000</td>\n",
       "    </tr>\n",
       "  </tbody>\n",
       "</table>\n",
       "</div>"
      ],
      "text/plain": [
       "                  GP           MIN        PTS          FGM          FGA  \\\n",
       "Target                                                                    \n",
       "0       28621.979801   7761.840504  2771.2806  1067.849022  2493.167445   \n",
       "1       36346.000000  10876.200000  4387.8000  1696.900000  3722.800000   \n",
       "\n",
       "                 FG%     3P Made         3PA           3P%         FTM  \\\n",
       "Target                                                                   \n",
       "0       23348.222795  125.897213  412.368202  10485.817475  512.447307   \n",
       "1       24999.500000  140.500000  432.600000  10488.700000  854.900000   \n",
       "\n",
       "               FTA           FT%        OREB         DREB          REB  \\\n",
       "Target                                                                   \n",
       "0        725.47497  38337.127864  388.222503   828.352147  1213.811459   \n",
       "1       1192.30000  39278.800000  666.800000  1304.300000  1970.200000   \n",
       "\n",
       "              AST         STL         BLK         TOV  \n",
       "Target                                                 \n",
       "0       649.64973  267.732353  137.268511  515.099202  \n",
       "1       971.80000  381.200000  241.700000  751.600000  "
      ]
     },
     "execution_count": 8,
     "metadata": {},
     "output_type": "execute_result"
    }
   ],
   "source": [
    "train_data.groupby('Target').sum()"
   ]
  },
  {
   "cell_type": "code",
   "execution_count": 9,
   "id": "2ea5878a",
   "metadata": {},
   "outputs": [
    {
     "data": {
      "image/png": "[encoded data removed]",
      "text/plain": [
       "<Figure size 360x360 with 1 Axes>"
      ]
     },
     "metadata": {
      "needs_background": "light"
     },
     "output_type": "display_data"
    },
    {
     "data": {
      "image/png": "[encoded data removed]",
      "text/plain": [
       "<Figure size 360x360 with 1 Axes>"
      ]
     },
     "metadata": {
      "needs_background": "light"
     },
     "output_type": "display_data"
    },
    {
     "data": {
      "image/png": "[encoded data removed]",
      "text/plain": [
       "<Figure size 360x360 with 1 Axes>"
      ]
     },
     "metadata": {
      "needs_background": "light"
     },
     "output_type": "display_data"
    },
    {
     "data": {
      "image/png": "[encoded data removed]",
      "text/plain": [
       "<Figure size 360x360 with 1 Axes>"
      ]
     },
     "metadata": {
      "needs_background": "light"
     },
     "output_type": "display_data"
    },
    {
     "data": {
      "image/png": "[encoded data removed]",
      "text/plain": [
       "<Figure size 360x360 with 1 Axes>"
      ]
     },
     "metadata": {
      "needs_background": "light"
     },
     "output_type": "display_data"
    },
    {
     "data": {
      "image/png": "[encoded data removed]",
      "text/plain": [
       "<Figure size 360x360 with 1 Axes>"
      ]
     },
     "metadata": {
      "needs_background": "light"
     },
     "output_type": "display_data"
    },
    {
     "data": {
      "image/png": "[encoded data removed]",
      "text/plain": [
       "<Figure size 360x360 with 1 Axes>"
      ]
     },
     "metadata": {
      "needs_background": "light"
     },
     "output_type": "display_data"
    },
    {
     "data": {
      "image/png": "[encoded data removed]",
      "text/plain": [
       "<Figure size 360x360 with 1 Axes>"
      ]
     },
     "metadata": {
      "needs_background": "light"
     },
     "output_type": "display_data"
    },
    {
     "data": {
      "image/png": "[encoded data removed]",
      "text/plain": [
       "<Figure size 360x360 with 1 Axes>"
      ]
     },
     "metadata": {
      "needs_background": "light"
     },
     "output_type": "display_data"
    },
    {
     "data": {
      "image/png": "[encoded data removed]",
      "text/plain": [
       "<Figure size 360x360 with 1 Axes>"
      ]
     },
     "metadata": {
      "needs_background": "light"
     },
     "output_type": "display_data"
    },
    {
     "data": {
      "image/png": "[encoded data removed]",
      "text/plain": [
       "<Figure size 360x360 with 1 Axes>"
      ]
     },
     "metadata": {
      "needs_background": "light"
     },
     "output_type": "display_data"
    },
    {
     "data": {
      "image/png": "[encoded data removed]",
      "text/plain": [
       "<Figure size 360x360 with 1 Axes>"
      ]
     },
     "metadata": {
      "needs_background": "light"
     },
     "output_type": "display_data"
    },
    {
     "data": {
      "image/png": "[encoded data removed]",
      "text/plain": [
       "<Figure size 360x360 with 1 Axes>"
      ]
     },
     "metadata": {
      "needs_background": "light"
     },
     "output_type": "display_data"
    },
    {
     "data": {
      "image/png": "[encoded data removed]",
      "text/plain": [
       "<Figure size 360x360 with 1 Axes>"
      ]
     },
     "metadata": {
      "needs_background": "light"
     },
     "output_type": "display_data"
    },
    {
     "data": {
      "image/png": "[encoded data removed]",
      "text/plain": [
       "<Figure size 360x360 with 1 Axes>"
      ]
     },
     "metadata": {
      "needs_background": "light"
     },
     "output_type": "display_data"
    },
    {
     "data": {
      "image/png": "[encoded data removed]",
      "text/plain": [
       "<Figure size 360x360 with 1 Axes>"
      ]
     },
     "metadata": {
      "needs_background": "light"
     },
     "output_type": "display_data"
    },
    {
     "data": {
      "image/png": "[encoded data removed]",
      "text/plain": [
       "<Figure size 360x360 with 1 Axes>"
      ]
     },
     "metadata": {
      "needs_background": "light"
     },
     "output_type": "display_data"
    },
    {
     "data": {
      "image/png": "[encoded data removed]",
      "text/plain": [
       "<Figure size 360x360 with 1 Axes>"
      ]
     },
     "metadata": {
      "needs_background": "light"
     },
     "output_type": "display_data"
    },
    {
     "data": {
      "image/png": "[encoded data removed]",
      "text/plain": [
       "<Figure size 360x360 with 1 Axes>"
      ]
     },
     "metadata": {
      "needs_background": "light"
     },
     "output_type": "display_data"
    },
    {
     "data": {
      "image/png": "[encoded data removed]",
      "text/plain": [
       "<Figure size 360x360 with 1 Axes>"
      ]
     },
     "metadata": {
      "needs_background": "light"
     },
     "output_type": "display_data"
    }
   ],
   "source": [
    "for c in train_data.columns:\n",
    "    sns.displot(train_data[c],bins=50)"
   ]
  },
  {
   "cell_type": "code",
   "execution_count": null,
   "id": "e857166a",
   "metadata": {},
   "outputs": [],
   "source": []
  },
  {
   "cell_type": "code",
   "execution_count": 10,
   "id": "82127da4",
   "metadata": {},
   "outputs": [
    {
     "data": {
      "text/html": [
       "<div>\n",
       "<style scoped>\n",
       "    .dataframe tbody tr th:only-of-type {\n",
       "        vertical-align: middle;\n",
       "    }\n",
       "\n",
       "    .dataframe tbody tr th {\n",
       "        vertical-align: top;\n",
       "    }\n",
       "\n",
       "    .dataframe thead th {\n",
       "        text-align: right;\n",
       "    }\n",
       "</style>\n",
       "<table border=\"1\" class=\"dataframe\">\n",
       "  <thead>\n",
       "    <tr style=\"text-align: right;\">\n",
       "      <th></th>\n",
       "      <th>GP</th>\n",
       "      <th>MIN</th>\n",
       "      <th>PTS</th>\n",
       "      <th>FGM</th>\n",
       "      <th>FGA</th>\n",
       "      <th>FG%</th>\n",
       "      <th>3P Made</th>\n",
       "      <th>3PA</th>\n",
       "      <th>3P%</th>\n",
       "      <th>FTM</th>\n",
       "      <th>FTA</th>\n",
       "      <th>FT%</th>\n",
       "      <th>OREB</th>\n",
       "      <th>DREB</th>\n",
       "      <th>REB</th>\n",
       "      <th>AST</th>\n",
       "      <th>STL</th>\n",
       "      <th>BLK</th>\n",
       "      <th>TOV</th>\n",
       "      <th>Target</th>\n",
       "    </tr>\n",
       "  </thead>\n",
       "  <tbody>\n",
       "    <tr>\n",
       "      <th>GP</th>\n",
       "      <td>1.000000</td>\n",
       "      <td>0.596357</td>\n",
       "      <td>0.558244</td>\n",
       "      <td>0.561145</td>\n",
       "      <td>0.537137</td>\n",
       "      <td>0.310895</td>\n",
       "      <td>0.119595</td>\n",
       "      <td>0.106704</td>\n",
       "      <td>0.026493</td>\n",
       "      <td>0.502075</td>\n",
       "      <td>0.490604</td>\n",
       "      <td>0.200039</td>\n",
       "      <td>0.416003</td>\n",
       "      <td>0.478836</td>\n",
       "      <td>0.472796</td>\n",
       "      <td>0.361935</td>\n",
       "      <td>0.455121</td>\n",
       "      <td>0.302524</td>\n",
       "      <td>0.522605</td>\n",
       "      <td>0.410299</td>\n",
       "    </tr>\n",
       "    <tr>\n",
       "      <th>MIN</th>\n",
       "      <td>0.596357</td>\n",
       "      <td>1.000000</td>\n",
       "      <td>0.918264</td>\n",
       "      <td>0.905489</td>\n",
       "      <td>0.914114</td>\n",
       "      <td>0.211973</td>\n",
       "      <td>0.390542</td>\n",
       "      <td>0.398589</td>\n",
       "      <td>0.169725</td>\n",
       "      <td>0.811353</td>\n",
       "      <td>0.795711</td>\n",
       "      <td>0.241640</td>\n",
       "      <td>0.586255</td>\n",
       "      <td>0.756072</td>\n",
       "      <td>0.719870</td>\n",
       "      <td>0.625946</td>\n",
       "      <td>0.766311</td>\n",
       "      <td>0.432429</td>\n",
       "      <td>0.830394</td>\n",
       "      <td>0.354152</td>\n",
       "    </tr>\n",
       "    <tr>\n",
       "      <th>PTS</th>\n",
       "      <td>0.558244</td>\n",
       "      <td>0.918264</td>\n",
       "      <td>1.000000</td>\n",
       "      <td>0.991033</td>\n",
       "      <td>0.980013</td>\n",
       "      <td>0.272255</td>\n",
       "      <td>0.337452</td>\n",
       "      <td>0.341765</td>\n",
       "      <td>0.147124</td>\n",
       "      <td>0.899845</td>\n",
       "      <td>0.882502</td>\n",
       "      <td>0.246680</td>\n",
       "      <td>0.590605</td>\n",
       "      <td>0.716958</td>\n",
       "      <td>0.696668</td>\n",
       "      <td>0.546482</td>\n",
       "      <td>0.669969</td>\n",
       "      <td>0.433771</td>\n",
       "      <td>0.853030</td>\n",
       "      <td>0.354192</td>\n",
       "    </tr>\n",
       "    <tr>\n",
       "      <th>FGM</th>\n",
       "      <td>0.561145</td>\n",
       "      <td>0.905489</td>\n",
       "      <td>0.991033</td>\n",
       "      <td>1.000000</td>\n",
       "      <td>0.979742</td>\n",
       "      <td>0.308350</td>\n",
       "      <td>0.277842</td>\n",
       "      <td>0.282244</td>\n",
       "      <td>0.114917</td>\n",
       "      <td>0.853349</td>\n",
       "      <td>0.843725</td>\n",
       "      <td>0.214689</td>\n",
       "      <td>0.610619</td>\n",
       "      <td>0.723419</td>\n",
       "      <td>0.708522</td>\n",
       "      <td>0.521606</td>\n",
       "      <td>0.650974</td>\n",
       "      <td>0.442781</td>\n",
       "      <td>0.834749</td>\n",
       "      <td>0.356119</td>\n",
       "    </tr>\n",
       "    <tr>\n",
       "      <th>FGA</th>\n",
       "      <td>0.537137</td>\n",
       "      <td>0.914114</td>\n",
       "      <td>0.980013</td>\n",
       "      <td>0.979742</td>\n",
       "      <td>1.000000</td>\n",
       "      <td>0.145322</td>\n",
       "      <td>0.382426</td>\n",
       "      <td>0.399330</td>\n",
       "      <td>0.202011</td>\n",
       "      <td>0.832288</td>\n",
       "      <td>0.807849</td>\n",
       "      <td>0.262776</td>\n",
       "      <td>0.514503</td>\n",
       "      <td>0.655417</td>\n",
       "      <td>0.627248</td>\n",
       "      <td>0.587837</td>\n",
       "      <td>0.689307</td>\n",
       "      <td>0.360720</td>\n",
       "      <td>0.848879</td>\n",
       "      <td>0.327988</td>\n",
       "    </tr>\n",
       "    <tr>\n",
       "      <th>FG%</th>\n",
       "      <td>0.310895</td>\n",
       "      <td>0.211973</td>\n",
       "      <td>0.272255</td>\n",
       "      <td>0.308350</td>\n",
       "      <td>0.145322</td>\n",
       "      <td>1.000000</td>\n",
       "      <td>-0.304532</td>\n",
       "      <td>-0.360298</td>\n",
       "      <td>-0.376032</td>\n",
       "      <td>0.267298</td>\n",
       "      <td>0.320679</td>\n",
       "      <td>-0.142038</td>\n",
       "      <td>0.527119</td>\n",
       "      <td>0.431919</td>\n",
       "      <td>0.484302</td>\n",
       "      <td>-0.130397</td>\n",
       "      <td>0.040709</td>\n",
       "      <td>0.414445</td>\n",
       "      <td>0.125793</td>\n",
       "      <td>0.252236</td>\n",
       "    </tr>\n",
       "    <tr>\n",
       "      <th>3P Made</th>\n",
       "      <td>0.119595</td>\n",
       "      <td>0.390542</td>\n",
       "      <td>0.337452</td>\n",
       "      <td>0.277842</td>\n",
       "      <td>0.382426</td>\n",
       "      <td>-0.304532</td>\n",
       "      <td>1.000000</td>\n",
       "      <td>0.982678</td>\n",
       "      <td>0.619991</td>\n",
       "      <td>0.157143</td>\n",
       "      <td>0.090530</td>\n",
       "      <td>0.310734</td>\n",
       "      <td>-0.221181</td>\n",
       "      <td>0.017703</td>\n",
       "      <td>-0.072795</td>\n",
       "      <td>0.415002</td>\n",
       "      <td>0.353963</td>\n",
       "      <td>-0.157557</td>\n",
       "      <td>0.269701</td>\n",
       "      <td>0.037159</td>\n",
       "    </tr>\n",
       "    <tr>\n",
       "      <th>3PA</th>\n",
       "      <td>0.106704</td>\n",
       "      <td>0.398589</td>\n",
       "      <td>0.341765</td>\n",
       "      <td>0.282244</td>\n",
       "      <td>0.399330</td>\n",
       "      <td>-0.360298</td>\n",
       "      <td>0.982678</td>\n",
       "      <td>1.000000</td>\n",
       "      <td>0.612823</td>\n",
       "      <td>0.165934</td>\n",
       "      <td>0.096702</td>\n",
       "      <td>0.321690</td>\n",
       "      <td>-0.237302</td>\n",
       "      <td>0.007024</td>\n",
       "      <td>-0.086081</td>\n",
       "      <td>0.444800</td>\n",
       "      <td>0.379792</td>\n",
       "      <td>-0.172752</td>\n",
       "      <td>0.290051</td>\n",
       "      <td>0.018759</td>\n",
       "    </tr>\n",
       "    <tr>\n",
       "      <th>3P%</th>\n",
       "      <td>0.026493</td>\n",
       "      <td>0.169725</td>\n",
       "      <td>0.147124</td>\n",
       "      <td>0.114917</td>\n",
       "      <td>0.202011</td>\n",
       "      <td>-0.376032</td>\n",
       "      <td>0.619991</td>\n",
       "      <td>0.612823</td>\n",
       "      <td>1.000000</td>\n",
       "      <td>0.018112</td>\n",
       "      <td>-0.048118</td>\n",
       "      <td>0.329070</td>\n",
       "      <td>-0.294037</td>\n",
       "      <td>-0.132653</td>\n",
       "      <td>-0.198723</td>\n",
       "      <td>0.296920</td>\n",
       "      <td>0.233972</td>\n",
       "      <td>-0.264620</td>\n",
       "      <td>0.111586</td>\n",
       "      <td>0.001285</td>\n",
       "    </tr>\n",
       "    <tr>\n",
       "      <th>FTM</th>\n",
       "      <td>0.502075</td>\n",
       "      <td>0.811353</td>\n",
       "      <td>0.899845</td>\n",
       "      <td>0.853349</td>\n",
       "      <td>0.832288</td>\n",
       "      <td>0.267298</td>\n",
       "      <td>0.157143</td>\n",
       "      <td>0.165934</td>\n",
       "      <td>0.018112</td>\n",
       "      <td>1.000000</td>\n",
       "      <td>0.980388</td>\n",
       "      <td>0.236930</td>\n",
       "      <td>0.604364</td>\n",
       "      <td>0.686171</td>\n",
       "      <td>0.681736</td>\n",
       "      <td>0.473577</td>\n",
       "      <td>0.597443</td>\n",
       "      <td>0.462012</td>\n",
       "      <td>0.811781</td>\n",
       "      <td>0.333098</td>\n",
       "    </tr>\n",
       "    <tr>\n",
       "      <th>FTA</th>\n",
       "      <td>0.490604</td>\n",
       "      <td>0.795711</td>\n",
       "      <td>0.882502</td>\n",
       "      <td>0.843725</td>\n",
       "      <td>0.807849</td>\n",
       "      <td>0.320679</td>\n",
       "      <td>0.090530</td>\n",
       "      <td>0.096702</td>\n",
       "      <td>-0.048118</td>\n",
       "      <td>0.980388</td>\n",
       "      <td>1.000000</td>\n",
       "      <td>0.092367</td>\n",
       "      <td>0.673121</td>\n",
       "      <td>0.731581</td>\n",
       "      <td>0.737864</td>\n",
       "      <td>0.419419</td>\n",
       "      <td>0.568765</td>\n",
       "      <td>0.521547</td>\n",
       "      <td>0.800064</td>\n",
       "      <td>0.334718</td>\n",
       "    </tr>\n",
       "    <tr>\n",
       "      <th>FT%</th>\n",
       "      <td>0.200039</td>\n",
       "      <td>0.241640</td>\n",
       "      <td>0.246680</td>\n",
       "      <td>0.214689</td>\n",
       "      <td>0.262776</td>\n",
       "      <td>-0.142038</td>\n",
       "      <td>0.310734</td>\n",
       "      <td>0.321690</td>\n",
       "      <td>0.329070</td>\n",
       "      <td>0.236930</td>\n",
       "      <td>0.092367</td>\n",
       "      <td>1.000000</td>\n",
       "      <td>-0.143924</td>\n",
       "      <td>-0.016600</td>\n",
       "      <td>-0.065965</td>\n",
       "      <td>0.308191</td>\n",
       "      <td>0.228524</td>\n",
       "      <td>-0.150065</td>\n",
       "      <td>0.197130</td>\n",
       "      <td>0.088597</td>\n",
       "    </tr>\n",
       "    <tr>\n",
       "      <th>OREB</th>\n",
       "      <td>0.416003</td>\n",
       "      <td>0.586255</td>\n",
       "      <td>0.590605</td>\n",
       "      <td>0.610619</td>\n",
       "      <td>0.514503</td>\n",
       "      <td>0.527119</td>\n",
       "      <td>-0.221181</td>\n",
       "      <td>-0.237302</td>\n",
       "      <td>-0.294037</td>\n",
       "      <td>0.604364</td>\n",
       "      <td>0.673121</td>\n",
       "      <td>-0.143924</td>\n",
       "      <td>1.000000</td>\n",
       "      <td>0.847967</td>\n",
       "      <td>0.937130</td>\n",
       "      <td>-0.016893</td>\n",
       "      <td>0.275706</td>\n",
       "      <td>0.665600</td>\n",
       "      <td>0.434725</td>\n",
       "      <td>0.329306</td>\n",
       "    </tr>\n",
       "    <tr>\n",
       "      <th>DREB</th>\n",
       "      <td>0.478836</td>\n",
       "      <td>0.756072</td>\n",
       "      <td>0.716958</td>\n",
       "      <td>0.723419</td>\n",
       "      <td>0.655417</td>\n",
       "      <td>0.431919</td>\n",
       "      <td>0.017703</td>\n",
       "      <td>0.007024</td>\n",
       "      <td>-0.132653</td>\n",
       "      <td>0.686171</td>\n",
       "      <td>0.731581</td>\n",
       "      <td>-0.016600</td>\n",
       "      <td>0.847967</td>\n",
       "      <td>1.000000</td>\n",
       "      <td>0.979235</td>\n",
       "      <td>0.193664</td>\n",
       "      <td>0.414556</td>\n",
       "      <td>0.712691</td>\n",
       "      <td>0.591945</td>\n",
       "      <td>0.323428</td>\n",
       "    </tr>\n",
       "    <tr>\n",
       "      <th>REB</th>\n",
       "      <td>0.472796</td>\n",
       "      <td>0.719870</td>\n",
       "      <td>0.696668</td>\n",
       "      <td>0.708522</td>\n",
       "      <td>0.627248</td>\n",
       "      <td>0.484302</td>\n",
       "      <td>-0.072795</td>\n",
       "      <td>-0.086081</td>\n",
       "      <td>-0.198723</td>\n",
       "      <td>0.681736</td>\n",
       "      <td>0.737864</td>\n",
       "      <td>-0.065965</td>\n",
       "      <td>0.937130</td>\n",
       "      <td>0.979235</td>\n",
       "      <td>1.000000</td>\n",
       "      <td>0.121015</td>\n",
       "      <td>0.377460</td>\n",
       "      <td>0.720953</td>\n",
       "      <td>0.554782</td>\n",
       "      <td>0.338257</td>\n",
       "    </tr>\n",
       "    <tr>\n",
       "      <th>AST</th>\n",
       "      <td>0.361935</td>\n",
       "      <td>0.625946</td>\n",
       "      <td>0.546482</td>\n",
       "      <td>0.521606</td>\n",
       "      <td>0.587837</td>\n",
       "      <td>-0.130397</td>\n",
       "      <td>0.415002</td>\n",
       "      <td>0.444800</td>\n",
       "      <td>0.296920</td>\n",
       "      <td>0.473577</td>\n",
       "      <td>0.419419</td>\n",
       "      <td>0.308191</td>\n",
       "      <td>-0.016893</td>\n",
       "      <td>0.193664</td>\n",
       "      <td>0.121015</td>\n",
       "      <td>1.000000</td>\n",
       "      <td>0.745087</td>\n",
       "      <td>-0.063675</td>\n",
       "      <td>0.736611</td>\n",
       "      <td>0.213621</td>\n",
       "    </tr>\n",
       "    <tr>\n",
       "      <th>STL</th>\n",
       "      <td>0.455121</td>\n",
       "      <td>0.766311</td>\n",
       "      <td>0.669969</td>\n",
       "      <td>0.650974</td>\n",
       "      <td>0.689307</td>\n",
       "      <td>0.040709</td>\n",
       "      <td>0.353963</td>\n",
       "      <td>0.379792</td>\n",
       "      <td>0.233972</td>\n",
       "      <td>0.597443</td>\n",
       "      <td>0.568765</td>\n",
       "      <td>0.228524</td>\n",
       "      <td>0.275706</td>\n",
       "      <td>0.414556</td>\n",
       "      <td>0.377460</td>\n",
       "      <td>0.745087</td>\n",
       "      <td>1.000000</td>\n",
       "      <td>0.161667</td>\n",
       "      <td>0.718808</td>\n",
       "      <td>0.268398</td>\n",
       "    </tr>\n",
       "    <tr>\n",
       "      <th>BLK</th>\n",
       "      <td>0.302524</td>\n",
       "      <td>0.432429</td>\n",
       "      <td>0.433771</td>\n",
       "      <td>0.442781</td>\n",
       "      <td>0.360720</td>\n",
       "      <td>0.414445</td>\n",
       "      <td>-0.157557</td>\n",
       "      <td>-0.172752</td>\n",
       "      <td>-0.264620</td>\n",
       "      <td>0.462012</td>\n",
       "      <td>0.521547</td>\n",
       "      <td>-0.150065</td>\n",
       "      <td>0.665600</td>\n",
       "      <td>0.712691</td>\n",
       "      <td>0.720953</td>\n",
       "      <td>-0.063675</td>\n",
       "      <td>0.161667</td>\n",
       "      <td>1.000000</td>\n",
       "      <td>0.333091</td>\n",
       "      <td>0.227312</td>\n",
       "    </tr>\n",
       "    <tr>\n",
       "      <th>TOV</th>\n",
       "      <td>0.522605</td>\n",
       "      <td>0.830394</td>\n",
       "      <td>0.853030</td>\n",
       "      <td>0.834749</td>\n",
       "      <td>0.848879</td>\n",
       "      <td>0.125793</td>\n",
       "      <td>0.269701</td>\n",
       "      <td>0.290051</td>\n",
       "      <td>0.111586</td>\n",
       "      <td>0.811781</td>\n",
       "      <td>0.800064</td>\n",
       "      <td>0.197130</td>\n",
       "      <td>0.434725</td>\n",
       "      <td>0.591945</td>\n",
       "      <td>0.554782</td>\n",
       "      <td>0.736611</td>\n",
       "      <td>0.718808</td>\n",
       "      <td>0.333091</td>\n",
       "      <td>1.000000</td>\n",
       "      <td>0.314013</td>\n",
       "    </tr>\n",
       "    <tr>\n",
       "      <th>Target</th>\n",
       "      <td>0.410299</td>\n",
       "      <td>0.354152</td>\n",
       "      <td>0.354192</td>\n",
       "      <td>0.356119</td>\n",
       "      <td>0.327988</td>\n",
       "      <td>0.252236</td>\n",
       "      <td>0.037159</td>\n",
       "      <td>0.018759</td>\n",
       "      <td>0.001285</td>\n",
       "      <td>0.333098</td>\n",
       "      <td>0.334718</td>\n",
       "      <td>0.088597</td>\n",
       "      <td>0.329306</td>\n",
       "      <td>0.323428</td>\n",
       "      <td>0.338257</td>\n",
       "      <td>0.213621</td>\n",
       "      <td>0.268398</td>\n",
       "      <td>0.227312</td>\n",
       "      <td>0.314013</td>\n",
       "      <td>1.000000</td>\n",
       "    </tr>\n",
       "  </tbody>\n",
       "</table>\n",
       "</div>"
      ],
      "text/plain": [
       "               GP       MIN       PTS       FGM       FGA       FG%   3P Made  \\\n",
       "GP       1.000000  0.596357  0.558244  0.561145  0.537137  0.310895  0.119595   \n",
       "MIN      0.596357  1.000000  0.918264  0.905489  0.914114  0.211973  0.390542   \n",
       "PTS      0.558244  0.918264  1.000000  0.991033  0.980013  0.272255  0.337452   \n",
       "FGM      0.561145  0.905489  0.991033  1.000000  0.979742  0.308350  0.277842   \n",
       "FGA      0.537137  0.914114  0.980013  0.979742  1.000000  0.145322  0.382426   \n",
       "FG%      0.310895  0.211973  0.272255  0.308350  0.145322  1.000000 -0.304532   \n",
       "3P Made  0.119595  0.390542  0.337452  0.277842  0.382426 -0.304532  1.000000   \n",
       "3PA      0.106704  0.398589  0.341765  0.282244  0.399330 -0.360298  0.982678   \n",
       "3P%      0.026493  0.169725  0.147124  0.114917  0.202011 -0.376032  0.619991   \n",
       "FTM      0.502075  0.811353  0.899845  0.853349  0.832288  0.267298  0.157143   \n",
       "FTA      0.490604  0.795711  0.882502  0.843725  0.807849  0.320679  0.090530   \n",
       "FT%      0.200039  0.241640  0.246680  0.214689  0.262776 -0.142038  0.310734   \n",
       "OREB     0.416003  0.586255  0.590605  0.610619  0.514503  0.527119 -0.221181   \n",
       "DREB     0.478836  0.756072  0.716958  0.723419  0.655417  0.431919  0.017703   \n",
       "REB      0.472796  0.719870  0.696668  0.708522  0.627248  0.484302 -0.072795   \n",
       "AST      0.361935  0.625946  0.546482  0.521606  0.587837 -0.130397  0.415002   \n",
       "STL      0.455121  0.766311  0.669969  0.650974  0.689307  0.040709  0.353963   \n",
       "BLK      0.302524  0.432429  0.433771  0.442781  0.360720  0.414445 -0.157557   \n",
       "TOV      0.522605  0.830394  0.853030  0.834749  0.848879  0.125793  0.269701   \n",
       "Target   0.410299  0.354152  0.354192  0.356119  0.327988  0.252236  0.037159   \n",
       "\n",
       "              3PA       3P%       FTM       FTA       FT%      OREB      DREB  \\\n",
       "GP       0.106704  0.026493  0.502075  0.490604  0.200039  0.416003  0.478836   \n",
       "MIN      0.398589  0.169725  0.811353  0.795711  0.241640  0.586255  0.756072   \n",
       "PTS      0.341765  0.147124  0.899845  0.882502  0.246680  0.590605  0.716958   \n",
       "FGM      0.282244  0.114917  0.853349  0.843725  0.214689  0.610619  0.723419   \n",
       "FGA      0.399330  0.202011  0.832288  0.807849  0.262776  0.514503  0.655417   \n",
       "FG%     -0.360298 -0.376032  0.267298  0.320679 -0.142038  0.527119  0.431919   \n",
       "3P Made  0.982678  0.619991  0.157143  0.090530  0.310734 -0.221181  0.017703   \n",
       "3PA      1.000000  0.612823  0.165934  0.096702  0.321690 -0.237302  0.007024   \n",
       "3P%      0.612823  1.000000  0.018112 -0.048118  0.329070 -0.294037 -0.132653   \n",
       "FTM      0.165934  0.018112  1.000000  0.980388  0.236930  0.604364  0.686171   \n",
       "FTA      0.096702 -0.048118  0.980388  1.000000  0.092367  0.673121  0.731581   \n",
       "FT%      0.321690  0.329070  0.236930  0.092367  1.000000 -0.143924 -0.016600   \n",
       "OREB    -0.237302 -0.294037  0.604364  0.673121 -0.143924  1.000000  0.847967   \n",
       "DREB     0.007024 -0.132653  0.686171  0.731581 -0.016600  0.847967  1.000000   \n",
       "REB     -0.086081 -0.198723  0.681736  0.737864 -0.065965  0.937130  0.979235   \n",
       "AST      0.444800  0.296920  0.473577  0.419419  0.308191 -0.016893  0.193664   \n",
       "STL      0.379792  0.233972  0.597443  0.568765  0.228524  0.275706  0.414556   \n",
       "BLK     -0.172752 -0.264620  0.462012  0.521547 -0.150065  0.665600  0.712691   \n",
       "TOV      0.290051  0.111586  0.811781  0.800064  0.197130  0.434725  0.591945   \n",
       "Target   0.018759  0.001285  0.333098  0.334718  0.088597  0.329306  0.323428   \n",
       "\n",
       "              REB       AST       STL       BLK       TOV    Target  \n",
       "GP       0.472796  0.361935  0.455121  0.302524  0.522605  0.410299  \n",
       "MIN      0.719870  0.625946  0.766311  0.432429  0.830394  0.354152  \n",
       "PTS      0.696668  0.546482  0.669969  0.433771  0.853030  0.354192  \n",
       "FGM      0.708522  0.521606  0.650974  0.442781  0.834749  0.356119  \n",
       "FGA      0.627248  0.587837  0.689307  0.360720  0.848879  0.327988  \n",
       "FG%      0.484302 -0.130397  0.040709  0.414445  0.125793  0.252236  \n",
       "3P Made -0.072795  0.415002  0.353963 -0.157557  0.269701  0.037159  \n",
       "3PA     -0.086081  0.444800  0.379792 -0.172752  0.290051  0.018759  \n",
       "3P%     -0.198723  0.296920  0.233972 -0.264620  0.111586  0.001285  \n",
       "FTM      0.681736  0.473577  0.597443  0.462012  0.811781  0.333098  \n",
       "FTA      0.737864  0.419419  0.568765  0.521547  0.800064  0.334718  \n",
       "FT%     -0.065965  0.308191  0.228524 -0.150065  0.197130  0.088597  \n",
       "OREB     0.937130 -0.016893  0.275706  0.665600  0.434725  0.329306  \n",
       "DREB     0.979235  0.193664  0.414556  0.712691  0.591945  0.323428  \n",
       "REB      1.000000  0.121015  0.377460  0.720953  0.554782  0.338257  \n",
       "AST      0.121015  1.000000  0.745087 -0.063675  0.736611  0.213621  \n",
       "STL      0.377460  0.745087  1.000000  0.161667  0.718808  0.268398  \n",
       "BLK      0.720953 -0.063675  0.161667  1.000000  0.333091  0.227312  \n",
       "TOV      0.554782  0.736611  0.718808  0.333091  1.000000  0.314013  \n",
       "Target   0.338257  0.213621  0.268398  0.227312  0.314013  1.000000  "
      ]
     },
     "execution_count": 10,
     "metadata": {},
     "output_type": "execute_result"
    }
   ],
   "source": [
    "#Correlation of the features with each other\n",
    "corr = train_data.corr()\n",
    "corr"
   ]
  },
  {
   "cell_type": "code",
   "execution_count": 11,
   "id": "f136890f",
   "metadata": {},
   "outputs": [
    {
     "data": {
      "text/plain": [
       "<AxesSubplot:>"
      ]
     },
     "execution_count": 11,
     "metadata": {},
     "output_type": "execute_result"
    },
    {
     "data": {
      "image/png": "[encoded data removed]",
      "text/plain": [
       "<Figure size 1080x576 with 2 Axes>"
      ]
     },
     "metadata": {
      "needs_background": "light"
     },
     "output_type": "display_data"
    }
   ],
   "source": [
    "#Plotting the correlation on a heat map\n",
    "plt.figure(figsize=(15,8))\n",
    "sns.heatmap(corr,annot=True)"
   ]
  },
  {
   "cell_type": "code",
   "execution_count": 12,
   "id": "7c0c5d44",
   "metadata": {},
   "outputs": [
    {
     "name": "stdout",
     "output_type": "stream",
     "text": [
      "GP has 0.4102985369935744 correlation with the Target\n",
      "MIN has 0.3541522890075668 correlation with the Target\n",
      "PTS has 0.35419205417377825 correlation with the Target\n",
      "FGM has 0.35611916336423455 correlation with the Target\n",
      "FGA has 0.3279879393014082 correlation with the Target\n",
      "FG% has 0.2522359589126728 correlation with the Target\n",
      "3P Made has 0.03715919950235889 correlation with the Target\n",
      "3PA has 0.018758649315793 correlation with the Target\n",
      "3P% has 0.0012846756672932186 correlation with the Target\n",
      "FTM has 0.333098028316421 correlation with the Target\n",
      "FTA has 0.3347175488813793 correlation with the Target\n",
      "FT% has 0.08859735003726187 correlation with the Target\n",
      "OREB has 0.32930569041867697 correlation with the Target\n",
      "DREB has 0.3234282537362614 correlation with the Target\n",
      "REB has 0.3382574205787694 correlation with the Target\n",
      "AST has 0.21362113964232896 correlation with the Target\n",
      "STL has 0.26839830811821486 correlation with the Target\n",
      "BLK has 0.22731223660594044 correlation with the Target\n",
      "TOV has 0.31401274317085237 correlation with the Target\n",
      "Target has 1.0 correlation with the Target\n"
     ]
    }
   ],
   "source": [
    "#correlation of the features with the target\n",
    "cols = train_data.columns\n",
    "for n in cols:\n",
    "    f = train_data['Target'].corr(train_data[n])\n",
    "    print(f'{n} has {f} correlation with the Target')"
   ]
  },
  {
   "cell_type": "code",
   "execution_count": 13,
   "id": "ab3bb844",
   "metadata": {},
   "outputs": [
    {
     "data": {
      "text/plain": [
       "0    551\n",
       "1    550\n",
       "Name: Target, dtype: int64"
      ]
     },
     "execution_count": 13,
     "metadata": {},
     "output_type": "execute_result"
    }
   ],
   "source": [
    "train_data.Target = train_data.Target.astype('category')\n",
    "train_data.Target = train_data.Target.cat.codes\n",
    "train_data.Target.value_counts()"
   ]
  },
  {
   "cell_type": "code",
   "execution_count": 14,
   "id": "1caa7c00",
   "metadata": {},
   "outputs": [],
   "source": [
    "x = train_data.drop(columns='Target')\n",
    "y = train_data['Target']"
   ]
  },
  {
   "cell_type": "code",
   "execution_count": 15,
   "id": "0f87a90f",
   "metadata": {},
   "outputs": [],
   "source": [
    "#split into training and testing set\n",
    "x_train, x_test, y_train, y_test = train_test_split(x, y, test_size= 0.1, random_state = 101) "
   ]
  },
  {
   "cell_type": "code",
   "execution_count": 16,
   "id": "6fba6ef8",
   "metadata": {},
   "outputs": [],
   "source": [
    "#Standardization\n",
    "stand_scaler = StandardScaler()\n",
    "\n",
    "std_xtrain = stand_scaler.fit_transform(x_train)\n",
    "std_xtrain = pd.DataFrame(std_xtrain,columns=x_train.columns)\n",
    "\n",
    "std_xtest = stand_scaler.transform(x_test)\n",
    "std_xtest = pd.DataFrame(std_xtest,columns=x_test.columns)\n",
    "\n",
    "std_test_data = stand_scaler.transform(test_data)\n",
    "std_test_data = pd.DataFrame(std_test_data,columns=test_data.columns)"
   ]
  },
  {
   "cell_type": "code",
   "execution_count": 17,
   "id": "d353fe52",
   "metadata": {},
   "outputs": [
    {
     "name": "stdout",
     "output_type": "stream",
     "text": [
      "[[48 13]\n",
      " [ 7 43]]\n",
      "              precision    recall  f1-score   support\n",
      "\n",
      "           0       0.87      0.79      0.83        61\n",
      "           1       0.77      0.86      0.81        50\n",
      "\n",
      "    accuracy                           0.82       111\n",
      "   macro avg       0.82      0.82      0.82       111\n",
      "weighted avg       0.83      0.82      0.82       111\n",
      "\n",
      "Accuracy: 0.8198\n",
      "Precision: 0.7679\n",
      "Recall: 0.8600\n",
      "F1: 0.8113\n"
     ]
    }
   ],
   "source": [
    "#Random Forest\n",
    "rrf_class = RandomForestClassifier(random_state=1)\n",
    "rrf_class.fit(std_xtrain,y_train)\n",
    "rrf_predictions = rrf_class.predict(std_xtest)\n",
    "cnf_mat = confusion_matrix(y_true=y_test, y_pred=rrf_predictions)\n",
    "print(cnf_mat)\n",
    "rrf_class_re = (classification_report(y_true=y_test, y_pred=rrf_predictions))\n",
    "print(rrf_class_re)\n",
    "accuracy = accuracy_score(y_true=y_test, y_pred=rrf_predictions)\n",
    "print( 'Accuracy: {}' .format('%.4f' % accuracy))\n",
    "precision = precision_score(y_true=y_test, y_pred=rrf_predictions)\n",
    "print( 'Precision: {}' .format('%.4f' % precision))\n",
    "recall = recall_score(y_true=y_test, y_pred=rrf_predictions)\n",
    "print( 'Recall: {}' .format('%.4f' % recall))\n",
    "f1 = f1_score(y_true=y_test, y_pred=rrf_predictions)\n",
    "print( 'F1: {}' .format('%.4f' %f1))"
   ]
  },
  {
   "cell_type": "code",
   "execution_count": 18,
   "id": "5b2a1f52",
   "metadata": {},
   "outputs": [
    {
     "name": "stdout",
     "output_type": "stream",
     "text": [
      "[[52  9]\n",
      " [ 7 43]]\n",
      "              precision    recall  f1-score   support\n",
      "\n",
      "           0       0.88      0.85      0.87        61\n",
      "           1       0.83      0.86      0.84        50\n",
      "\n",
      "    accuracy                           0.86       111\n",
      "   macro avg       0.85      0.86      0.85       111\n",
      "weighted avg       0.86      0.86      0.86       111\n",
      "\n",
      "Accuracy: 0.8559\n",
      "Precision: 0.8269\n",
      "Recall: 0.8600\n",
      "F1: 0.8431\n"
     ]
    }
   ],
   "source": [
    "#Extra Tree Classifier\n",
    "et_class = ExtraTreesClassifier(random_state=1)\n",
    "et_class.fit(std_xtrain,y_train)\n",
    "et_predictions = et_class.predict(std_xtest)\n",
    "cnf_mat = confusion_matrix(y_true=y_test, y_pred=et_predictions)\n",
    "print(cnf_mat)\n",
    "et_class_re = (classification_report(y_true=y_test, y_pred=et_predictions))\n",
    "print(et_class_re)\n",
    "accuracy = accuracy_score(y_true=y_test, y_pred=et_predictions)\n",
    "print( 'Accuracy: {}' .format('%.4f' % accuracy))\n",
    "precision = precision_score(y_true=y_test, y_pred=et_predictions)\n",
    "print( 'Precision: {}' .format('%.4f' % precision))\n",
    "recall = recall_score(y_true=y_test, y_pred=et_predictions)\n",
    "print( 'Recall: {}' .format('%.4f' % recall))\n",
    "f1 = f1_score(y_true=y_test, y_pred=et_predictions)\n",
    "print( 'F1: {}' .format('%.4f' %f1))"
   ]
  },
  {
   "cell_type": "code",
   "execution_count": 19,
   "id": "8334899d",
   "metadata": {},
   "outputs": [
    {
     "name": "stdout",
     "output_type": "stream",
     "text": [
      "[[41  9]\n",
      " [15 46]]\n",
      "              precision    recall  f1-score   support\n",
      "\n",
      "           0       0.84      0.75      0.79        61\n",
      "           1       0.73      0.82      0.77        50\n",
      "\n",
      "    accuracy                           0.78       111\n",
      "   macro avg       0.78      0.79      0.78       111\n",
      "weighted avg       0.79      0.78      0.78       111\n",
      "\n",
      "Accuracy: 0.7838\n",
      "Precision: 0.7321\n",
      "Recall: 0.8200\n",
      "F1: 0.7736\n"
     ]
    }
   ],
   "source": [
    "#XGB classifier\n",
    "xgb_class = XGBClassifier(random_state=1)\n",
    "xgb_class.fit(std_xtrain,y_train)\n",
    "xgb_predictions = xgb_class.predict(std_xtest)\n",
    "cnf_mat = confusion_matrix(y_true=y_test, y_pred=xgb_predictions, labels=[1,0])\n",
    "print(cnf_mat)\n",
    "xgb_class_re = (classification_report(y_true=y_test, y_pred=xgb_predictions))\n",
    "print(xgb_class_re)\n",
    "accuracy = accuracy_score(y_true=y_test, y_pred=xgb_predictions)\n",
    "print( 'Accuracy: {}' .format('%.4f' % accuracy))\n",
    "precision = precision_score(y_true=y_test, y_pred=xgb_predictions)\n",
    "print( 'Precision: {}' .format('%.4f' % precision))\n",
    "recall = recall_score(y_true=y_test, y_pred=xgb_predictions)\n",
    "print( 'Recall: {}' .format('%.4f' % recall))\n",
    "f1 = f1_score(y_true=y_test, y_pred=xgb_predictions)\n",
    "print( 'F1: {}' .format('%.4f' %f1))"
   ]
  },
  {
   "cell_type": "code",
   "execution_count": 20,
   "id": "0b2c2bcc",
   "metadata": {},
   "outputs": [
    {
     "name": "stdout",
     "output_type": "stream",
     "text": [
      "[[42  8]\n",
      " [16 45]]\n",
      "              precision    recall  f1-score   support\n",
      "\n",
      "           0       0.85      0.74      0.79        61\n",
      "           1       0.72      0.84      0.78        50\n",
      "\n",
      "    accuracy                           0.78       111\n",
      "   macro avg       0.79      0.79      0.78       111\n",
      "weighted avg       0.79      0.78      0.78       111\n",
      "\n",
      "Accuracy: 0.7838\n",
      "Precision: 0.7241\n",
      "Recall: 0.8400\n",
      "F1: 0.7778\n"
     ]
    }
   ],
   "source": [
    "#LIGHTGB classifier\n",
    "lgb_class = LGBMClassifier(random_state=1)\n",
    "lgb_class.fit(std_xtrain,y_train)\n",
    "lgb_predictions = lgb_class.predict(std_xtest)\n",
    "cnf_mat = confusion_matrix(y_true=y_test, y_pred=lgb_predictions, labels=[1,0])\n",
    "print(cnf_mat)\n",
    "lgb_class_re = (classification_report(y_true=y_test, y_pred=lgb_predictions))\n",
    "print(lgb_class_re)\n",
    "accuracy = accuracy_score(y_true=y_test, y_pred=lgb_predictions)\n",
    "print( 'Accuracy: {}' .format('%.4f' % accuracy))\n",
    "precision = precision_score(y_true=y_test, y_pred=lgb_predictions)\n",
    "print( 'Precision: {}' .format('%.4f' % precision))\n",
    "recall = recall_score(y_true=y_test, y_pred=lgb_predictions)\n",
    "print( 'Recall: {}' .format('%.4f' % recall))\n",
    "f1 = f1_score(y_true=y_test, y_pred=lgb_predictions)\n",
    "print( 'F1: {}' .format('%.4f' %f1))"
   ]
  },
  {
   "cell_type": "code",
   "execution_count": 21,
   "id": "5e835b3d",
   "metadata": {},
   "outputs": [
    {
     "name": "stdout",
     "output_type": "stream",
     "text": [
      "[[45 16]\n",
      " [10 40]]\n",
      "              precision    recall  f1-score   support\n",
      "\n",
      "           0       0.85      0.74      0.79        61\n",
      "           1       0.72      0.84      0.78        50\n",
      "\n",
      "    accuracy                           0.78       111\n",
      "   macro avg       0.79      0.79      0.78       111\n",
      "weighted avg       0.79      0.78      0.78       111\n",
      "\n",
      "Accuracy: 0.7658\n",
      "Precision: 0.7143\n",
      "Recall: 0.8000\n",
      "F1: 0.7547\n"
     ]
    }
   ],
   "source": [
    "log_reg = LogisticRegression()\n",
    "log_reg.fit(std_xtrain,y_train)\n",
    "log_predictions = log_reg.predict(std_xtest)\n",
    "log_mat = confusion_matrix(y_true=y_test, y_pred=log_predictions)\n",
    "print(log_mat)\n",
    "lgb_class_re = (classification_report(y_true=y_test, y_pred=lgb_predictions))\n",
    "print(lgb_class_re)\n",
    "accuracy = accuracy_score(y_true=y_test, y_pred=log_predictions)\n",
    "print( 'Accuracy: {}' .format('%.4f' % accuracy))\n",
    "precision = precision_score(y_true=y_test, y_pred=log_predictions)\n",
    "print( 'Precision: {}' .format('%.4f' % precision))\n",
    "recall = recall_score(y_true=y_test, y_pred=log_predictions)\n",
    "print( 'Recall: {}' .format('%.4f' % recall))\n",
    "f1 = f1_score(y_true=y_test, y_pred=log_predictions)\n",
    "print( 'F1: {}' .format('%.4f' %f1))"
   ]
  },
  {
   "cell_type": "code",
   "execution_count": 22,
   "id": "2d3faac6",
   "metadata": {},
   "outputs": [],
   "source": [
    "error_rate = []\n",
    "for i in range(1,40):\n",
    "    knn = KNeighborsClassifier(n_neighbors=i)\n",
    "    knn.fit(std_xtrain,y_train)\n",
    "    pred_i = knn.predict(std_xtest)\n",
    "    error_rate.append(np.mean(pred_i != y_test))"
   ]
  },
  {
   "cell_type": "code",
   "execution_count": 23,
   "id": "53248655",
   "metadata": {},
   "outputs": [
    {
     "data": {
      "text/plain": [
       "[<matplotlib.lines.Line2D at 0x160861da3a0>]"
      ]
     },
     "execution_count": 23,
     "metadata": {},
     "output_type": "execute_result"
    },
    {
     "data": {
      "image/png": "[encoded data removed]",
      "text/plain": [
       "<Figure size 432x288 with 1 Axes>"
      ]
     },
     "metadata": {
      "needs_background": "light"
     },
     "output_type": "display_data"
    }
   ],
   "source": [
    "plt.plot(range(1,40),error_rate)"
   ]
  },
  {
   "cell_type": "code",
   "execution_count": 24,
   "id": "456115f3",
   "metadata": {
    "scrolled": true
   },
   "outputs": [
    {
     "name": "stdout",
     "output_type": "stream",
     "text": [
      "[[54  7]\n",
      " [11 39]]\n",
      "              precision    recall  f1-score   support\n",
      "\n",
      "           0       0.83      0.89      0.86        61\n",
      "           1       0.85      0.78      0.81        50\n",
      "\n",
      "    accuracy                           0.84       111\n",
      "   macro avg       0.84      0.83      0.83       111\n",
      "weighted avg       0.84      0.84      0.84       111\n",
      "\n",
      "Accuracy: 0.8378\n",
      "Precision: 0.8478\n",
      "Recall: 0.7800\n",
      "F1: 0.8125\n"
     ]
    }
   ],
   "source": [
    "knn = KNeighborsClassifier(n_neighbors=28)\n",
    "knn.fit(std_xtrain,y_train)\n",
    "pred = knn.predict(std_xtest)\n",
    "print(confusion_matrix(y_test,pred))\n",
    "print(classification_report(y_test,pred))\n",
    "accuracy = accuracy_score(y_true=y_test, y_pred=pred)\n",
    "print( 'Accuracy: {}' .format('%.4f' % accuracy))\n",
    "precision = precision_score(y_true=y_test, y_pred=pred)\n",
    "print( 'Precision: {}' .format('%.4f' % precision))\n",
    "recall = recall_score(y_true=y_test, y_pred=pred)\n",
    "print( 'Recall: {}' .format('%.4f' % recall))\n",
    "f1 = f1_score(y_true=y_test, y_pred=pred)\n",
    "print( 'F1: {}' .format('%.4f' %f1))"
   ]
  },
  {
   "cell_type": "code",
   "execution_count": 25,
   "id": "77eb4b86",
   "metadata": {},
   "outputs": [
    {
     "name": "stdout",
     "output_type": "stream",
     "text": [
      "Fitting 5 folds for each of 36 candidates, totalling 180 fits\n",
      "[CV 1/5] END ....................C=0.1, gamma=1;, score=0.505 total time=   0.1s\n",
      "[CV 2/5] END ....................C=0.1, gamma=1;, score=0.505 total time=   0.1s\n",
      "[CV 3/5] END ....................C=0.1, gamma=1;, score=0.505 total time=   0.1s\n",
      "[CV 4/5] END ....................C=0.1, gamma=1;, score=0.505 total time=   0.0s\n",
      "[CV 5/5] END ....................C=0.1, gamma=1;, score=0.505 total time=   0.1s\n",
      "[CV 1/5] END ..................C=0.1, gamma=0.1;, score=0.753 total time=   0.0s\n",
      "[CV 2/5] END ..................C=0.1, gamma=0.1;, score=0.692 total time=   0.0s\n",
      "[CV 3/5] END ..................C=0.1, gamma=0.1;, score=0.626 total time=   0.0s\n",
      "[CV 4/5] END ..................C=0.1, gamma=0.1;, score=0.646 total time=   0.0s\n",
      "[CV 5/5] END ..................C=0.1, gamma=0.1;, score=0.697 total time=   0.0s\n",
      "[CV 1/5] END .................C=0.1, gamma=0.01;, score=0.737 total time=   0.0s\n",
      "[CV 2/5] END .................C=0.1, gamma=0.01;, score=0.662 total time=   0.0s\n",
      "[CV 3/5] END .................C=0.1, gamma=0.01;, score=0.631 total time=   0.0s\n",
      "[CV 4/5] END .................C=0.1, gamma=0.01;, score=0.636 total time=   0.0s\n",
      "[CV 5/5] END .................C=0.1, gamma=0.01;, score=0.682 total time=   0.0s\n",
      "[CV 1/5] END ................C=0.1, gamma=0.001;, score=0.682 total time=   0.0s\n",
      "[CV 2/5] END ................C=0.1, gamma=0.001;, score=0.626 total time=   0.0s\n",
      "[CV 3/5] END ................C=0.1, gamma=0.001;, score=0.641 total time=   0.0s\n",
      "[CV 4/5] END ................C=0.1, gamma=0.001;, score=0.611 total time=   0.0s\n",
      "[CV 5/5] END ................C=0.1, gamma=0.001;, score=0.621 total time=   0.0s\n",
      "[CV 1/5] END ...............C=0.1, gamma=0.0001;, score=0.505 total time=   0.0s\n",
      "[CV 2/5] END ...............C=0.1, gamma=0.0001;, score=0.505 total time=   0.0s\n",
      "[CV 3/5] END ...............C=0.1, gamma=0.0001;, score=0.505 total time=   0.0s\n",
      "[CV 4/5] END ...............C=0.1, gamma=0.0001;, score=0.505 total time=   0.0s\n",
      "[CV 5/5] END ...............C=0.1, gamma=0.0001;, score=0.505 total time=   0.0s\n",
      "[CV 1/5] END ................C=0.1, gamma=1e-05;, score=0.505 total time=   0.0s\n",
      "[CV 2/5] END ................C=0.1, gamma=1e-05;, score=0.505 total time=   0.0s\n",
      "[CV 3/5] END ................C=0.1, gamma=1e-05;, score=0.505 total time=   0.0s\n",
      "[CV 4/5] END ................C=0.1, gamma=1e-05;, score=0.505 total time=   0.1s\n",
      "[CV 5/5] END ................C=0.1, gamma=1e-05;, score=0.505 total time=   0.0s\n",
      "[CV 1/5] END ......................C=1, gamma=1;, score=0.722 total time=   0.0s\n",
      "[CV 2/5] END ......................C=1, gamma=1;, score=0.732 total time=   0.1s\n",
      "[CV 3/5] END ......................C=1, gamma=1;, score=0.727 total time=   0.1s\n",
      "[CV 4/5] END ......................C=1, gamma=1;, score=0.672 total time=   0.1s\n",
      "[CV 5/5] END ......................C=1, gamma=1;, score=0.712 total time=   0.1s\n",
      "[CV 1/5] END ....................C=1, gamma=0.1;, score=0.753 total time=   0.0s\n",
      "[CV 2/5] END ....................C=1, gamma=0.1;, score=0.722 total time=   0.0s\n",
      "[CV 3/5] END ....................C=1, gamma=0.1;, score=0.631 total time=   0.0s\n",
      "[CV 4/5] END ....................C=1, gamma=0.1;, score=0.687 total time=   0.0s\n",
      "[CV 5/5] END ....................C=1, gamma=0.1;, score=0.702 total time=   0.0s\n",
      "[CV 1/5] END ...................C=1, gamma=0.01;, score=0.737 total time=   0.0s\n",
      "[CV 2/5] END ...................C=1, gamma=0.01;, score=0.707 total time=   0.0s\n",
      "[CV 3/5] END ...................C=1, gamma=0.01;, score=0.631 total time=   0.0s\n",
      "[CV 4/5] END ...................C=1, gamma=0.01;, score=0.662 total time=   0.0s\n",
      "[CV 5/5] END ...................C=1, gamma=0.01;, score=0.692 total time=   0.0s\n",
      "[CV 1/5] END ..................C=1, gamma=0.001;, score=0.727 total time=   0.0s\n",
      "[CV 2/5] END ..................C=1, gamma=0.001;, score=0.667 total time=   0.0s\n",
      "[CV 3/5] END ..................C=1, gamma=0.001;, score=0.646 total time=   0.0s\n",
      "[CV 4/5] END ..................C=1, gamma=0.001;, score=0.646 total time=   0.0s\n",
      "[CV 5/5] END ..................C=1, gamma=0.001;, score=0.677 total time=   0.0s\n",
      "[CV 1/5] END .................C=1, gamma=0.0001;, score=0.677 total time=   0.0s\n",
      "[CV 2/5] END .................C=1, gamma=0.0001;, score=0.631 total time=   0.0s\n",
      "[CV 3/5] END .................C=1, gamma=0.0001;, score=0.641 total time=   0.0s\n",
      "[CV 4/5] END .................C=1, gamma=0.0001;, score=0.626 total time=   0.0s\n",
      "[CV 5/5] END .................C=1, gamma=0.0001;, score=0.621 total time=   0.0s\n",
      "[CV 1/5] END ..................C=1, gamma=1e-05;, score=0.505 total time=   0.0s\n",
      "[CV 2/5] END ..................C=1, gamma=1e-05;, score=0.505 total time=   0.0s\n",
      "[CV 3/5] END ..................C=1, gamma=1e-05;, score=0.505 total time=   0.0s\n",
      "[CV 4/5] END ..................C=1, gamma=1e-05;, score=0.505 total time=   0.0s\n",
      "[CV 5/5] END ..................C=1, gamma=1e-05;, score=0.505 total time=   0.0s\n",
      "[CV 1/5] END .....................C=10, gamma=1;, score=0.727 total time=   0.0s\n",
      "[CV 2/5] END .....................C=10, gamma=1;, score=0.753 total time=   0.0s\n",
      "[CV 3/5] END .....................C=10, gamma=1;, score=0.702 total time=   0.0s\n",
      "[CV 4/5] END .....................C=10, gamma=1;, score=0.687 total time=   0.0s\n",
      "[CV 5/5] END .....................C=10, gamma=1;, score=0.707 total time=   0.1s\n",
      "[CV 1/5] END ...................C=10, gamma=0.1;, score=0.747 total time=   0.1s\n",
      "[CV 2/5] END ...................C=10, gamma=0.1;, score=0.742 total time=   0.1s\n",
      "[CV 3/5] END ...................C=10, gamma=0.1;, score=0.687 total time=   0.0s\n",
      "[CV 4/5] END ...................C=10, gamma=0.1;, score=0.636 total time=   0.0s\n",
      "[CV 5/5] END ...................C=10, gamma=0.1;, score=0.758 total time=   0.0s\n",
      "[CV 1/5] END ..................C=10, gamma=0.01;, score=0.737 total time=   0.0s\n",
      "[CV 2/5] END ..................C=10, gamma=0.01;, score=0.702 total time=   0.0s\n",
      "[CV 3/5] END ..................C=10, gamma=0.01;, score=0.641 total time=   0.0s\n",
      "[CV 4/5] END ..................C=10, gamma=0.01;, score=0.657 total time=   0.0s\n",
      "[CV 5/5] END ..................C=10, gamma=0.01;, score=0.697 total time=   0.0s\n",
      "[CV 1/5] END .................C=10, gamma=0.001;, score=0.732 total time=   0.0s\n",
      "[CV 2/5] END .................C=10, gamma=0.001;, score=0.687 total time=   0.0s\n",
      "[CV 3/5] END .................C=10, gamma=0.001;, score=0.641 total time=   0.0s\n",
      "[CV 4/5] END .................C=10, gamma=0.001;, score=0.672 total time=   0.0s\n",
      "[CV 5/5] END .................C=10, gamma=0.001;, score=0.712 total time=   0.0s\n",
      "[CV 1/5] END ................C=10, gamma=0.0001;, score=0.727 total time=   0.0s\n",
      "[CV 2/5] END ................C=10, gamma=0.0001;, score=0.672 total time=   0.0s\n",
      "[CV 3/5] END ................C=10, gamma=0.0001;, score=0.652 total time=   0.0s\n",
      "[CV 4/5] END ................C=10, gamma=0.0001;, score=0.641 total time=   0.0s\n",
      "[CV 5/5] END ................C=10, gamma=0.0001;, score=0.677 total time=   0.0s\n",
      "[CV 1/5] END .................C=10, gamma=1e-05;, score=0.677 total time=   0.0s\n",
      "[CV 2/5] END .................C=10, gamma=1e-05;, score=0.626 total time=   0.0s\n",
      "[CV 3/5] END .................C=10, gamma=1e-05;, score=0.641 total time=   0.0s\n",
      "[CV 4/5] END .................C=10, gamma=1e-05;, score=0.626 total time=   0.0s\n",
      "[CV 5/5] END .................C=10, gamma=1e-05;, score=0.621 total time=   0.0s\n",
      "[CV 1/5] END ....................C=100, gamma=1;, score=0.727 total time=   0.0s\n",
      "[CV 2/5] END ....................C=100, gamma=1;, score=0.753 total time=   0.1s\n",
      "[CV 3/5] END ....................C=100, gamma=1;, score=0.702 total time=   0.0s\n",
      "[CV 4/5] END ....................C=100, gamma=1;, score=0.687 total time=   0.0s\n",
      "[CV 5/5] END ....................C=100, gamma=1;, score=0.707 total time=   0.0s\n",
      "[CV 1/5] END ..................C=100, gamma=0.1;, score=0.727 total time=   0.1s\n",
      "[CV 2/5] END ..................C=100, gamma=0.1;, score=0.732 total time=   0.1s\n",
      "[CV 3/5] END ..................C=100, gamma=0.1;, score=0.662 total time=   0.1s\n",
      "[CV 4/5] END ..................C=100, gamma=0.1;, score=0.692 total time=   0.1s\n",
      "[CV 5/5] END ..................C=100, gamma=0.1;, score=0.722 total time=   0.1s\n",
      "[CV 1/5] END .................C=100, gamma=0.01;, score=0.727 total time=   0.0s\n"
     ]
    },
    {
     "name": "stdout",
     "output_type": "stream",
     "text": [
      "[CV 2/5] END .................C=100, gamma=0.01;, score=0.712 total time=   0.0s\n",
      "[CV 3/5] END .................C=100, gamma=0.01;, score=0.596 total time=   0.0s\n",
      "[CV 4/5] END .................C=100, gamma=0.01;, score=0.652 total time=   0.1s\n",
      "[CV 5/5] END .................C=100, gamma=0.01;, score=0.667 total time=   0.1s\n",
      "[CV 1/5] END ................C=100, gamma=0.001;, score=0.768 total time=   0.0s\n",
      "[CV 2/5] END ................C=100, gamma=0.001;, score=0.707 total time=   0.0s\n",
      "[CV 3/5] END ................C=100, gamma=0.001;, score=0.636 total time=   0.0s\n",
      "[CV 4/5] END ................C=100, gamma=0.001;, score=0.662 total time=   0.0s\n",
      "[CV 5/5] END ................C=100, gamma=0.001;, score=0.707 total time=   0.0s\n",
      "[CV 1/5] END ...............C=100, gamma=0.0001;, score=0.737 total time=   0.0s\n",
      "[CV 2/5] END ...............C=100, gamma=0.0001;, score=0.687 total time=   0.0s\n",
      "[CV 3/5] END ...............C=100, gamma=0.0001;, score=0.641 total time=   0.0s\n",
      "[CV 4/5] END ...............C=100, gamma=0.0001;, score=0.662 total time=   0.0s\n",
      "[CV 5/5] END ...............C=100, gamma=0.0001;, score=0.697 total time=   0.0s\n",
      "[CV 1/5] END ................C=100, gamma=1e-05;, score=0.727 total time=   0.0s\n",
      "[CV 2/5] END ................C=100, gamma=1e-05;, score=0.672 total time=   0.0s\n",
      "[CV 3/5] END ................C=100, gamma=1e-05;, score=0.652 total time=   0.0s\n",
      "[CV 4/5] END ................C=100, gamma=1e-05;, score=0.641 total time=   0.0s\n",
      "[CV 5/5] END ................C=100, gamma=1e-05;, score=0.677 total time=   0.0s\n",
      "[CV 1/5] END ...................C=1000, gamma=1;, score=0.727 total time=   0.1s\n",
      "[CV 2/5] END ...................C=1000, gamma=1;, score=0.753 total time=   0.0s\n",
      "[CV 3/5] END ...................C=1000, gamma=1;, score=0.702 total time=   0.0s\n",
      "[CV 4/5] END ...................C=1000, gamma=1;, score=0.687 total time=   0.0s\n",
      "[CV 5/5] END ...................C=1000, gamma=1;, score=0.707 total time=   0.1s\n",
      "[CV 1/5] END .................C=1000, gamma=0.1;, score=0.722 total time=   0.1s\n",
      "[CV 2/5] END .................C=1000, gamma=0.1;, score=0.702 total time=   0.2s\n",
      "[CV 3/5] END .................C=1000, gamma=0.1;, score=0.667 total time=   0.1s\n",
      "[CV 4/5] END .................C=1000, gamma=0.1;, score=0.687 total time=   0.1s\n",
      "[CV 5/5] END .................C=1000, gamma=0.1;, score=0.687 total time=   0.1s\n",
      "[CV 1/5] END ................C=1000, gamma=0.01;, score=0.742 total time=   0.4s\n",
      "[CV 2/5] END ................C=1000, gamma=0.01;, score=0.692 total time=   0.3s\n",
      "[CV 3/5] END ................C=1000, gamma=0.01;, score=0.601 total time=   0.3s\n",
      "[CV 4/5] END ................C=1000, gamma=0.01;, score=0.646 total time=   0.4s\n",
      "[CV 5/5] END ................C=1000, gamma=0.01;, score=0.742 total time=   0.3s\n",
      "[CV 1/5] END ...............C=1000, gamma=0.001;, score=0.727 total time=   0.0s\n",
      "[CV 2/5] END ...............C=1000, gamma=0.001;, score=0.722 total time=   0.0s\n",
      "[CV 3/5] END ...............C=1000, gamma=0.001;, score=0.631 total time=   0.0s\n",
      "[CV 4/5] END ...............C=1000, gamma=0.001;, score=0.636 total time=   0.0s\n",
      "[CV 5/5] END ...............C=1000, gamma=0.001;, score=0.687 total time=   0.0s\n",
      "[CV 1/5] END ..............C=1000, gamma=0.0001;, score=0.747 total time=   0.0s\n",
      "[CV 2/5] END ..............C=1000, gamma=0.0001;, score=0.702 total time=   0.0s\n",
      "[CV 3/5] END ..............C=1000, gamma=0.0001;, score=0.641 total time=   0.0s\n",
      "[CV 4/5] END ..............C=1000, gamma=0.0001;, score=0.682 total time=   0.0s\n",
      "[CV 5/5] END ..............C=1000, gamma=0.0001;, score=0.697 total time=   0.0s\n",
      "[CV 1/5] END ...............C=1000, gamma=1e-05;, score=0.737 total time=   0.0s\n",
      "[CV 2/5] END ...............C=1000, gamma=1e-05;, score=0.687 total time=   0.0s\n",
      "[CV 3/5] END ...............C=1000, gamma=1e-05;, score=0.641 total time=   0.0s\n",
      "[CV 4/5] END ...............C=1000, gamma=1e-05;, score=0.662 total time=   0.0s\n",
      "[CV 5/5] END ...............C=1000, gamma=1e-05;, score=0.697 total time=   0.0s\n",
      "[CV 1/5] END ..................C=10000, gamma=1;, score=0.727 total time=   0.0s\n",
      "[CV 2/5] END ..................C=10000, gamma=1;, score=0.753 total time=   0.0s\n",
      "[CV 3/5] END ..................C=10000, gamma=1;, score=0.702 total time=   0.0s\n",
      "[CV 4/5] END ..................C=10000, gamma=1;, score=0.687 total time=   0.0s\n",
      "[CV 5/5] END ..................C=10000, gamma=1;, score=0.707 total time=   0.0s\n",
      "[CV 1/5] END ................C=10000, gamma=0.1;, score=0.722 total time=   0.1s\n",
      "[CV 2/5] END ................C=10000, gamma=0.1;, score=0.702 total time=   0.1s\n",
      "[CV 3/5] END ................C=10000, gamma=0.1;, score=0.667 total time=   0.1s\n",
      "[CV 4/5] END ................C=10000, gamma=0.1;, score=0.687 total time=   0.1s\n",
      "[CV 5/5] END ................C=10000, gamma=0.1;, score=0.687 total time=   0.1s\n",
      "[CV 1/5] END ...............C=10000, gamma=0.01;, score=0.742 total time=   2.9s\n",
      "[CV 2/5] END ...............C=10000, gamma=0.01;, score=0.672 total time=   2.3s\n",
      "[CV 3/5] END ...............C=10000, gamma=0.01;, score=0.616 total time=   1.8s\n",
      "[CV 4/5] END ...............C=10000, gamma=0.01;, score=0.626 total time=   2.0s\n",
      "[CV 5/5] END ...............C=10000, gamma=0.01;, score=0.682 total time=   2.0s\n",
      "[CV 1/5] END ..............C=10000, gamma=0.001;, score=0.722 total time=   0.3s\n",
      "[CV 2/5] END ..............C=10000, gamma=0.001;, score=0.692 total time=   0.4s\n",
      "[CV 3/5] END ..............C=10000, gamma=0.001;, score=0.626 total time=   0.3s\n",
      "[CV 4/5] END ..............C=10000, gamma=0.001;, score=0.657 total time=   0.3s\n",
      "[CV 5/5] END ..............C=10000, gamma=0.001;, score=0.682 total time=   0.3s\n",
      "[CV 1/5] END .............C=10000, gamma=0.0001;, score=0.758 total time=   0.0s\n",
      "[CV 2/5] END .............C=10000, gamma=0.0001;, score=0.692 total time=   0.0s\n",
      "[CV 3/5] END .............C=10000, gamma=0.0001;, score=0.641 total time=   0.0s\n",
      "[CV 4/5] END .............C=10000, gamma=0.0001;, score=0.682 total time=   0.0s\n",
      "[CV 5/5] END .............C=10000, gamma=0.0001;, score=0.697 total time=   0.0s\n",
      "[CV 1/5] END ..............C=10000, gamma=1e-05;, score=0.747 total time=   0.0s\n",
      "[CV 2/5] END ..............C=10000, gamma=1e-05;, score=0.697 total time=   0.0s\n",
      "[CV 3/5] END ..............C=10000, gamma=1e-05;, score=0.641 total time=   0.0s\n",
      "[CV 4/5] END ..............C=10000, gamma=1e-05;, score=0.682 total time=   0.0s\n",
      "[CV 5/5] END ..............C=10000, gamma=1e-05;, score=0.697 total time=   0.0s\n"
     ]
    },
    {
     "data": {
      "text/plain": [
       "{'C': 10, 'gamma': 1}"
      ]
     },
     "execution_count": 25,
     "metadata": {},
     "output_type": "execute_result"
    }
   ],
   "source": [
    "param_grid = {'C':[0.1,1,10,100,1000,10000],'gamma':[1,0.1,0.01,0.001,0.0001,0.00001]}\n",
    "grid = GridSearchCV(SVC(),param_grid,verbose=3)\n",
    "grid.fit(std_xtrain,y_train)\n",
    "grid.best_params_\n"
   ]
  },
  {
   "cell_type": "code",
   "execution_count": 26,
   "id": "c0837f6a",
   "metadata": {},
   "outputs": [
    {
     "data": {
      "text/html": [
       "<style>#sk-container-id-1 {color: black;background-color: white;}#sk-container-id-1 pre{padding: 0;}#sk-container-id-1 div.sk-toggleable {background-color: white;}#sk-container-id-1 label.sk-toggleable__label {cursor: pointer;display: block;width: 100%;margin-bottom: 0;padding: 0.3em;box-sizing: border-box;text-align: center;}#sk-container-id-1 label.sk-toggleable__label-arrow:before {content: \"▸\";float: left;margin-right: 0.25em;color: #696969;}#sk-container-id-1 label.sk-toggleable__label-arrow:hover:before {color: black;}#sk-container-id-1 div.sk-estimator:hover label.sk-toggleable__label-arrow:before {color: black;}#sk-container-id-1 div.sk-toggleable__content {max-height: 0;max-width: 0;overflow: hidden;text-align: left;background-color: #f0f8ff;}#sk-container-id-1 div.sk-toggleable__content pre {margin: 0.2em;color: black;border-radius: 0.25em;background-color: #f0f8ff;}#sk-container-id-1 input.sk-toggleable__control:checked~div.sk-toggleable__content {max-height: 200px;max-width: 100%;overflow: auto;}#sk-container-id-1 input.sk-toggleable__control:checked~label.sk-toggleable__label-arrow:before {content: \"▾\";}#sk-container-id-1 div.sk-estimator input.sk-toggleable__control:checked~label.sk-toggleable__label {background-color: #d4ebff;}#sk-container-id-1 div.sk-label input.sk-toggleable__control:checked~label.sk-toggleable__label {background-color: #d4ebff;}#sk-container-id-1 input.sk-hidden--visually {border: 0;clip: rect(1px 1px 1px 1px);clip: rect(1px, 1px, 1px, 1px);height: 1px;margin: -1px;overflow: hidden;padding: 0;position: absolute;width: 1px;}#sk-container-id-1 div.sk-estimator {font-family: monospace;background-color: #f0f8ff;border: 1px dotted black;border-radius: 0.25em;box-sizing: border-box;margin-bottom: 0.5em;}#sk-container-id-1 div.sk-estimator:hover {background-color: #d4ebff;}#sk-container-id-1 div.sk-parallel-item::after {content: \"\";width: 100%;border-bottom: 1px solid gray;flex-grow: 1;}#sk-container-id-1 div.sk-label:hover label.sk-toggleable__label {background-color: #d4ebff;}#sk-container-id-1 div.sk-serial::before {content: \"\";position: absolute;border-left: 1px solid gray;box-sizing: border-box;top: 0;bottom: 0;left: 50%;z-index: 0;}#sk-container-id-1 div.sk-serial {display: flex;flex-direction: column;align-items: center;background-color: white;padding-right: 0.2em;padding-left: 0.2em;position: relative;}#sk-container-id-1 div.sk-item {position: relative;z-index: 1;}#sk-container-id-1 div.sk-parallel {display: flex;align-items: stretch;justify-content: center;background-color: white;position: relative;}#sk-container-id-1 div.sk-item::before, #sk-container-id-1 div.sk-parallel-item::before {content: \"\";position: absolute;border-left: 1px solid gray;box-sizing: border-box;top: 0;bottom: 0;left: 50%;z-index: -1;}#sk-container-id-1 div.sk-parallel-item {display: flex;flex-direction: column;z-index: 1;position: relative;background-color: white;}#sk-container-id-1 div.sk-parallel-item:first-child::after {align-self: flex-end;width: 50%;}#sk-container-id-1 div.sk-parallel-item:last-child::after {align-self: flex-start;width: 50%;}#sk-container-id-1 div.sk-parallel-item:only-child::after {width: 0;}#sk-container-id-1 div.sk-dashed-wrapped {border: 1px dashed gray;margin: 0 0.4em 0.5em 0.4em;box-sizing: border-box;padding-bottom: 0.4em;background-color: white;}#sk-container-id-1 div.sk-label label {font-family: monospace;font-weight: bold;display: inline-block;line-height: 1.2em;}#sk-container-id-1 div.sk-label-container {text-align: center;}#sk-container-id-1 div.sk-container {/* jupyter's `normalize.less` sets `[hidden] { display: none; }` but bootstrap.min.css set `[hidden] { display: none !important; }` so we also need the `!important` here to be able to override the default hidden behavior on the sphinx rendered scikit-learn.org. See: https://github.com/scikit-learn/scikit-learn/issues/21755 */display: inline-block !important;position: relative;}#sk-container-id-1 div.sk-text-repr-fallback {display: none;}</style><div id=\"sk-container-id-1\" class=\"sk-top-container\"><div class=\"sk-text-repr-fallback\"><pre>SVC(C=10, gamma=1)</pre><b>In a Jupyter environment, please rerun this cell to show the HTML representation or trust the notebook. <br />On GitHub, the HTML representation is unable to render, please try loading this page with nbviewer.org.</b></div><div class=\"sk-container\" hidden><div class=\"sk-item\"><div class=\"sk-estimator sk-toggleable\"><input class=\"sk-toggleable__control sk-hidden--visually\" id=\"sk-estimator-id-1\" type=\"checkbox\" checked><label for=\"sk-estimator-id-1\" class=\"sk-toggleable__label sk-toggleable__label-arrow\">SVC</label><div class=\"sk-toggleable__content\"><pre>SVC(C=10, gamma=1)</pre></div></div></div></div></div>"
      ],
      "text/plain": [
       "SVC(C=10, gamma=1)"
      ]
     },
     "execution_count": 26,
     "metadata": {},
     "output_type": "execute_result"
    }
   ],
   "source": [
    "grid.best_estimator_"
   ]
  },
  {
   "cell_type": "code",
   "execution_count": 27,
   "id": "d02a0a45",
   "metadata": {},
   "outputs": [],
   "source": [
    "pred = grid.predict(std_xtest)"
   ]
  },
  {
   "cell_type": "code",
   "execution_count": 28,
   "id": "4e7f3bde",
   "metadata": {
    "scrolled": true
   },
   "outputs": [
    {
     "name": "stdout",
     "output_type": "stream",
     "text": [
      "[[40 21]\n",
      " [ 2 48]]\n",
      "              precision    recall  f1-score   support\n",
      "\n",
      "           0       0.95      0.66      0.78        61\n",
      "           1       0.70      0.96      0.81        50\n",
      "\n",
      "    accuracy                           0.79       111\n",
      "   macro avg       0.82      0.81      0.79       111\n",
      "weighted avg       0.84      0.79      0.79       111\n",
      "\n"
     ]
    }
   ],
   "source": [
    "print(confusion_matrix(y_test,pred))\n",
    "print(classification_report(y_test,pred))"
   ]
  },
  {
   "cell_type": "markdown",
   "id": "186305f2",
   "metadata": {},
   "source": [
    "*HYPERPARAMETER TUNING ON THE BEST TWO MODELS TO GAIN A HIGHER ACCURACY*"
   ]
  },
  {
   "cell_type": "code",
   "execution_count": 30,
   "id": "4638f422",
   "metadata": {},
   "outputs": [
    {
     "data": {
      "text/plain": [
       "[<matplotlib.lines.Line2D at 0x160860d0640>]"
      ]
     },
     "execution_count": 30,
     "metadata": {},
     "output_type": "execute_result"
    },
    {
     "data": {
      "image/png": "[encoded data removed]",
      "text/plain": [
       "<Figure size 432x288 with 1 Axes>"
      ]
     },
     "metadata": {
      "needs_background": "light"
     },
     "output_type": "display_data"
    }
   ],
   "source": [
    "#split into training and testing set\n",
    "x_train, x_test, y_train, y_test = train_test_split(x, y, test_size= 0.1, random_state = 101) \n",
    "# Try Standardization with MinMaxScaler\n",
    "\n",
    "stand_scaler = MinMaxScaler()\n",
    "\n",
    "std_xtrain = stand_scaler.fit_transform(x_train)\n",
    "std_xtrain = pd.DataFrame(std_xtrain,columns=x_train.columns)\n",
    "\n",
    "std_xtest = stand_scaler.transform(x_test)\n",
    "std_xtest = pd.DataFrame(std_xtest,columns=x_test.columns)\n",
    "\n",
    "std_test_data = stand_scaler.transform(test_data)\n",
    "std_test_data = pd.DataFrame(std_test_data,columns=test_data.columns)\n",
    "\n",
    "error_rate = []\n",
    "#increasing the range to 60\n",
    "for i in range(1,60):\n",
    "    knn = KNeighborsClassifier(n_neighbors=i)\n",
    "    knn.fit(std_xtrain,y_train)\n",
    "    pred_i = knn.predict(std_xtest)\n",
    "    error_rate.append(np.mean(pred_i != y_test))\n",
    "    \n",
    "plt.plot(range(1,60),error_rate)"
   ]
  },
  {
   "cell_type": "code",
   "execution_count": 31,
   "id": "cf04dd2f",
   "metadata": {
    "scrolled": true
   },
   "outputs": [
    {
     "name": "stdout",
     "output_type": "stream",
     "text": [
      "[[52  9]\n",
      " [11 39]]\n",
      "              precision    recall  f1-score   support\n",
      "\n",
      "           0       0.83      0.85      0.84        61\n",
      "           1       0.81      0.78      0.80        50\n",
      "\n",
      "    accuracy                           0.82       111\n",
      "   macro avg       0.82      0.82      0.82       111\n",
      "weighted avg       0.82      0.82      0.82       111\n",
      "\n",
      "Accuracy: 0.8198\n",
      "Precision: 0.8125\n",
      "Recall: 0.7800\n",
      "F1: 0.7959\n"
     ]
    }
   ],
   "source": [
    "knn = KNeighborsClassifier(n_neighbors=28)\n",
    "knn.fit(std_xtrain,y_train)\n",
    "pred = knn.predict(std_xtest)\n",
    "print(confusion_matrix(y_test,pred))\n",
    "print(classification_report(y_test,pred))\n",
    "accuracy = accuracy_score(y_true=y_test, y_pred=pred)\n",
    "print( 'Accuracy: {}' .format('%.4f' % accuracy))\n",
    "precision = precision_score(y_true=y_test, y_pred=pred)\n",
    "print( 'Precision: {}' .format('%.4f' % precision))\n",
    "recall = recall_score(y_true=y_test, y_pred=pred)\n",
    "print( 'Recall: {}' .format('%.4f' % recall))\n",
    "f1 = f1_score(y_true=y_test, y_pred=pred)\n",
    "print( 'F1: {}' .format('%.4f' %f1))"
   ]
  },
  {
   "cell_type": "code",
   "execution_count": 32,
   "id": "f8c8a598",
   "metadata": {
    "scrolled": true
   },
   "outputs": [
    {
     "name": "stdout",
     "output_type": "stream",
     "text": [
      "[[13  0]\n",
      " [ 4 13]]\n",
      "              precision    recall  f1-score   support\n",
      "\n",
      "           0       0.76      1.00      0.87        13\n",
      "           1       1.00      0.76      0.87        17\n",
      "\n",
      "    accuracy                           0.87        30\n",
      "   macro avg       0.88      0.88      0.87        30\n",
      "weighted avg       0.90      0.87      0.87        30\n",
      "\n",
      "Accuracy: 0.8667\n"
     ]
    }
   ],
   "source": [
    "#split into training and testing set\n",
    "x_train, x_test, y_train, y_test = train_test_split(x, y, test_size= 0.027, random_state = 101) \n",
    "#Standardizatio7\n",
    "stand_scaler = StandardScaler()\n",
    "\n",
    "std_xtrain = stand_scaler.fit_transform(x_train)\n",
    "std_xtrain = pd.DataFrame(std_xtrain,columns=x_train.columns)\n",
    "\n",
    "std_xtest = stand_scaler.transform(x_test)\n",
    "std_xtest = pd.DataFrame(std_xtest,columns=x_test.columns)\n",
    "\n",
    "std_test_data = stand_scaler.fit_transform(test_data)\n",
    "std_test_data = pd.DataFrame(std_test_data,columns=test_data.columns)\n",
    "#Extra Tree Classifier\n",
    "et_class = ExtraTreesClassifier(random_state=1)\n",
    "et_class.fit(std_xtrain,y_train)\n",
    "et_predictions = et_class.predict(std_xtest)\n",
    "cnf_mat = confusion_matrix(y_true=y_test, y_pred=et_predictions)\n",
    "print(cnf_mat)\n",
    "et_class_re = (classification_report(y_true=y_test, y_pred=et_predictions))\n",
    "print(et_class_re)\n",
    "accuracy = accuracy_score(y_true=y_test, y_pred=et_predictions)\n",
    "print( 'Accuracy: {}' .format('%.4f' % accuracy))"
   ]
  },
  {
   "cell_type": "markdown",
   "id": "07ec9bc7",
   "metadata": {},
   "source": [
    "Extra Tree Classifier gave the highest accuracy so far. Therefore I used Extra Tree Class to predict on the standardized test data"
   ]
  },
  {
   "cell_type": "code",
   "execution_count": 33,
   "id": "9da90eae",
   "metadata": {},
   "outputs": [],
   "source": [
    "target = et_class.predict(std_test_data)"
   ]
  },
  {
   "cell_type": "code",
   "execution_count": 34,
   "id": "cb081cb2",
   "metadata": {},
   "outputs": [],
   "source": [
    "res = pd.DataFrame(target)\n",
    "res.index = std_test_data.index\n",
    "res.columns = ['prediction']\n",
    "res.to_csv('prediction_results.csv', index=False)"
   ]
  },
  {
   "cell_type": "code",
   "execution_count": 35,
   "id": "81b5080d",
   "metadata": {},
   "outputs": [
    {
     "data": {
      "text/html": [
       "<div>\n",
       "<style scoped>\n",
       "    .dataframe tbody tr th:only-of-type {\n",
       "        vertical-align: middle;\n",
       "    }\n",
       "\n",
       "    .dataframe tbody tr th {\n",
       "        vertical-align: top;\n",
       "    }\n",
       "\n",
       "    .dataframe thead th {\n",
       "        text-align: right;\n",
       "    }\n",
       "</style>\n",
       "<table border=\"1\" class=\"dataframe\">\n",
       "  <thead>\n",
       "    <tr style=\"text-align: right;\">\n",
       "      <th></th>\n",
       "      <th>prediction</th>\n",
       "    </tr>\n",
       "  </thead>\n",
       "  <tbody>\n",
       "    <tr>\n",
       "      <th>0</th>\n",
       "      <td>0</td>\n",
       "    </tr>\n",
       "    <tr>\n",
       "      <th>1</th>\n",
       "      <td>0</td>\n",
       "    </tr>\n",
       "    <tr>\n",
       "      <th>2</th>\n",
       "      <td>0</td>\n",
       "    </tr>\n",
       "    <tr>\n",
       "      <th>3</th>\n",
       "      <td>0</td>\n",
       "    </tr>\n",
       "    <tr>\n",
       "      <th>4</th>\n",
       "      <td>1</td>\n",
       "    </tr>\n",
       "    <tr>\n",
       "      <th>...</th>\n",
       "      <td>...</td>\n",
       "    </tr>\n",
       "    <tr>\n",
       "      <th>550</th>\n",
       "      <td>1</td>\n",
       "    </tr>\n",
       "    <tr>\n",
       "      <th>551</th>\n",
       "      <td>1</td>\n",
       "    </tr>\n",
       "    <tr>\n",
       "      <th>552</th>\n",
       "      <td>1</td>\n",
       "    </tr>\n",
       "    <tr>\n",
       "      <th>553</th>\n",
       "      <td>0</td>\n",
       "    </tr>\n",
       "    <tr>\n",
       "      <th>554</th>\n",
       "      <td>1</td>\n",
       "    </tr>\n",
       "  </tbody>\n",
       "</table>\n",
       "<p>555 rows × 1 columns</p>\n",
       "</div>"
      ],
      "text/plain": [
       "     prediction\n",
       "0             0\n",
       "1             0\n",
       "2             0\n",
       "3             0\n",
       "4             1\n",
       "..          ...\n",
       "550           1\n",
       "551           1\n",
       "552           1\n",
       "553           0\n",
       "554           1\n",
       "\n",
       "[555 rows x 1 columns]"
      ]
     },
     "execution_count": 35,
     "metadata": {},
     "output_type": "execute_result"
    }
   ],
   "source": [
    "res"
   ]
  },
  {
   "cell_type": "code",
   "execution_count": null,
   "id": "0878df99",
   "metadata": {},
   "outputs": [],
   "source": []
  }
 ],
 "metadata": {
  "kernelspec": {
   "display_name": "Python 3 (ipykernel)",
   "language": "python",
   "name": "python3"
  },
  "language_info": {
   "codemirror_mode": {
    "name": "ipython",
    "version": 3
   },
   "file_extension": ".py",
   "mimetype": "text/x-python",
   "name": "python",
   "nbconvert_exporter": "python",
   "pygments_lexer": "ipython3",
   "version": "3.9.7"
  }
 },
 "nbformat": 4,
 "nbformat_minor": 5
}
